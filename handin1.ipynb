{
 "cells": [
  {
   "cell_type": "markdown",
   "metadata": {},
   "source": [
    "### Handin 1\n",
    "\n",
    "\n",
    "# Info\n",
    "\n",
    "Everything should be completed and approved in person. Groups are fine.\n",
    "\n",
    "The objectives for this handin is:\n",
    "* Playing with numpy.\n",
    "* Plotting with Plotly (as a preparation for using dash (https://plotly.com/dash/) later on)\n",
    "* Train a more complex model using the Fortuna Algorithm.\n",
    "* Route planning for Knut Knut Transport AS. \n",
    "\n",
    "## How to solve?\n",
    "There should be a comment/section stating the objective of a task.  \n",
    "And there should be a commented section labeled # -- CODE --  \n",
    "that shows where to put your code. For tasks that are not answered by code you can either write the answer  \n",
    "as a markup cell or write it on a seperate piece of paper."
   ]
  },
  {
   "cell_type": "code",
   "execution_count": 2,
   "metadata": {},
   "outputs": [
    {
     "name": "stdout",
     "output_type": "stream",
     "text": [
      "<ok>\n"
     ]
    }
   ],
   "source": [
    "import numpy as np\n",
    "\n",
    "\n",
    "# TASK: Create a numpy array containing the whole numbers between 1, 10 (inclusive)\n",
    "\n",
    "# -- CODE --\n",
    "\n",
    "a = np.array([1, 2, 3, 4, 5, 6, 7, 8, 9, 10]) \n",
    "\n",
    "\n",
    "assert isinstance(a, np.ndarray)\n",
    "assert np.isclose(a, [1,2,3,4,5,6,7,8,9,10]).all()\n",
    "print(\"<ok>\")"
   ]
  },
  {
   "cell_type": "code",
   "execution_count": 3,
   "metadata": {},
   "outputs": [
    {
     "name": "stdout",
     "output_type": "stream",
     "text": [
      "<ok>\n"
     ]
    }
   ],
   "source": [
    "# TASK: Reshape the array a so that it is a 2 by 4 array\n",
    "\n",
    "a = np.array(range(0, 8))\n",
    "\n",
    "# -- CODE --\n",
    "a = a.reshape(2,4)\n",
    "\n",
    "assert( a.shape == (2,4) )\n",
    "print(\"<ok>\")"
   ]
  },
  {
   "cell_type": "code",
   "execution_count": 4,
   "metadata": {},
   "outputs": [
    {
     "name": "stdout",
     "output_type": "stream",
     "text": [
      "<ok>\n"
     ]
    }
   ],
   "source": [
    "# TASK: multiply all the numbers in a by 2.\n",
    "\n",
    "\n",
    "a = np.array([[1,2,3,4], [5,6,7,8]])\n",
    "\n",
    "# -- CODE --\n",
    "a = a * 2\n",
    "\n",
    "assert a.shape == (2,4)\n",
    "assert a.sum() == 72\n",
    "print(\"<ok>\")"
   ]
  },
  {
   "cell_type": "code",
   "execution_count": 19,
   "metadata": {},
   "outputs": [
    {
     "name": "stdout",
     "output_type": "stream",
     "text": [
      "<ok>\n"
     ]
    }
   ],
   "source": [
    "# TASK:  create a numpy array b that contains the sum of each row (axis 1) in a \n",
    "\n",
    "a = np.array([[1,2,3,4], [5,6,7,8]])\n",
    "\n",
    "# -- CODE --\n",
    "\n",
    "b = a.sum(axis=1) \n",
    "\n",
    "assert b.shape == (2,)\n",
    "assert (b == [10, 26]).all()\n",
    "print(\"<ok>\")"
   ]
  },
  {
   "cell_type": "code",
   "execution_count": 20,
   "metadata": {},
   "outputs": [
    {
     "name": "stdout",
     "output_type": "stream",
     "text": [
      "<ok>\n"
     ]
    }
   ],
   "source": [
    "# TASK:  create a numpy array b that contains the mean value of each column (axis 0) in a \n",
    "a = np.array([[1,2,3,4], [1,2,3,8]])\n",
    "\n",
    "# -- CODE --\n",
    "b = a.mean(axis=0)\n",
    "\n",
    "assert b.shape == (4,)\n",
    "assert (b == [1, 2, 3, 6]).all()\n",
    "print(\"<ok>\")"
   ]
  },
  {
   "cell_type": "code",
   "execution_count": 22,
   "metadata": {},
   "outputs": [
    {
     "name": "stdout",
     "output_type": "stream",
     "text": [
      "<ok>\n"
     ]
    }
   ],
   "source": [
    "# TASK:  stack the arrays a, b and c into an array called s (vertically)\n",
    "# s should be equal to s_true (hint, look at the numpy function vstack )\n",
    "\n",
    "\n",
    "a = np.array([1, 3])\n",
    "b = np.array([2, 4])\n",
    "c = np.array([3, 5])\n",
    "\n",
    "# -- CODE --\n",
    "arrays = (a,b,c)\n",
    "s = np.vstack(arrays)\n",
    "\n",
    "s_true = np.array([[1, 3], [2, 4], [3, 5]])\n",
    "assert (s_true == s).all()\n",
    "\n",
    "print(\"<ok>\")"
   ]
  },
  {
   "cell_type": "code",
   "execution_count": 23,
   "metadata": {},
   "outputs": [
    {
     "name": "stdout",
     "output_type": "stream",
     "text": [
      "[[[-1.11323229 -1.39833245]\n",
      "  [ 1.38112882 -0.90909367]]\n",
      "\n",
      " [[-0.88476981 -0.4159989 ]\n",
      "  [ 3.02380169 -0.08429846]]]\n",
      "--------------------------------------------------\n",
      "[-1.11323229 -1.39833245  1.38112882 -0.90909367 -0.88476981 -0.4159989\n",
      "  3.02380169 -0.08429846]\n",
      "<ok>\n"
     ]
    }
   ],
   "source": [
    "# TASK:  Flatten the array a into a 1d array called f (hint: numpy has a function named flatten)\n",
    "\n",
    "a = np.random.randn(2,2,2)\n",
    "print(a)\n",
    "\n",
    "# -- CODE --\n",
    "f = a.flatten()\n",
    "\n",
    "print(\"-\"*50)\n",
    "print(f)\n",
    "assert f.ndim == 1\n",
    "print(\"<ok>\")"
   ]
  },
  {
   "cell_type": "markdown",
   "metadata": {},
   "source": [
    "## Task 1 -- Plot functions and scatter plots using Plotly \n",
    "\n",
    "Change the code to perform the two following tasks:\n",
    "\n",
    "(See Plotly: https://plotly.com/python/plotly-express/ for more info.)\n",
    "\n",
    "**Line Plot)**\n",
    "\n",
    "Plot the function f(x) = -0.69x^2 + 1.3x + 0.42 over the interval [0, 2.5], with 0.01 increments in x.\n",
    "\n",
    "**Scatter Plot)**  \n",
    "\n",
    "Plot the first 25 Fibbonachi numbers using a scatter plot.\n",
    "(The example shows the first 5).\n",
    "\n",
    "\n"
   ]
  },
  {
   "cell_type": "code",
   "execution_count": 24,
   "metadata": {},
   "outputs": [
    {
     "name": "stdout",
     "output_type": "stream",
     "text": [
      "Collecting plotly\n",
      "  Downloading plotly-6.3.0-py3-none-any.whl.metadata (8.5 kB)\n",
      "Collecting narwhals>=1.15.1 (from plotly)\n",
      "  Downloading narwhals-2.5.0-py3-none-any.whl.metadata (11 kB)\n",
      "Requirement already satisfied: packaging in c:\\users\\sindr\\appdata\\local\\packages\\pythonsoftwarefoundation.python.3.11_qbz5n2kfra8p0\\localcache\\local-packages\\python311\\site-packages (from plotly) (24.2)\n",
      "Downloading plotly-6.3.0-py3-none-any.whl (9.8 MB)\n",
      "   ---------------------------------------- 0.0/9.8 MB ? eta -:--:--\n",
      "   ------------------------ --------------- 6.0/9.8 MB 33.5 MB/s eta 0:00:01\n",
      "   ---------------------------------------- 9.8/9.8 MB 32.1 MB/s  0:00:00\n",
      "Downloading narwhals-2.5.0-py3-none-any.whl (407 kB)\n",
      "Installing collected packages: narwhals, plotly\n",
      "\n",
      "   ---------------------------------------- 0/2 [narwhals]\n",
      "   ---------------------------------------- 0/2 [narwhals]\n",
      "   ---------------------------------------- 0/2 [narwhals]\n",
      "   ---------------------------------------- 0/2 [narwhals]\n",
      "   ---------------------------------------- 0/2 [narwhals]\n",
      "   ---------------------------------------- 0/2 [narwhals]\n",
      "   ---------------------------------------- 0/2 [narwhals]\n",
      "   ---------------------------------------- 0/2 [narwhals]\n",
      "   ---------------------------------------- 0/2 [narwhals]\n",
      "   ---------------------------------------- 0/2 [narwhals]\n",
      "   ---------------------------------------- 0/2 [narwhals]\n",
      "   -------------------- ------------------- 1/2 [plotly]\n",
      "   -------------------- ------------------- 1/2 [plotly]\n",
      "   -------------------- ------------------- 1/2 [plotly]\n",
      "   -------------------- ------------------- 1/2 [plotly]\n",
      "   -------------------- ------------------- 1/2 [plotly]\n",
      "   -------------------- ------------------- 1/2 [plotly]\n",
      "   -------------------- ------------------- 1/2 [plotly]\n",
      "   -------------------- ------------------- 1/2 [plotly]\n",
      "   -------------------- ------------------- 1/2 [plotly]\n",
      "   -------------------- ------------------- 1/2 [plotly]\n",
      "   -------------------- ------------------- 1/2 [plotly]\n",
      "   -------------------- ------------------- 1/2 [plotly]\n",
      "   -------------------- ------------------- 1/2 [plotly]\n",
      "   -------------------- ------------------- 1/2 [plotly]\n",
      "   -------------------- ------------------- 1/2 [plotly]\n",
      "   -------------------- ------------------- 1/2 [plotly]\n",
      "   -------------------- ------------------- 1/2 [plotly]\n",
      "   -------------------- ------------------- 1/2 [plotly]\n",
      "   -------------------- ------------------- 1/2 [plotly]\n",
      "   -------------------- ------------------- 1/2 [plotly]\n",
      "   -------------------- ------------------- 1/2 [plotly]\n",
      "   -------------------- ------------------- 1/2 [plotly]\n",
      "   -------------------- ------------------- 1/2 [plotly]\n",
      "   -------------------- ------------------- 1/2 [plotly]\n",
      "   -------------------- ------------------- 1/2 [plotly]\n",
      "   -------------------- ------------------- 1/2 [plotly]\n",
      "   -------------------- ------------------- 1/2 [plotly]\n",
      "   -------------------- ------------------- 1/2 [plotly]\n",
      "   -------------------- ------------------- 1/2 [plotly]\n",
      "   -------------------- ------------------- 1/2 [plotly]\n",
      "   -------------------- ------------------- 1/2 [plotly]\n",
      "   -------------------- ------------------- 1/2 [plotly]\n",
      "   -------------------- ------------------- 1/2 [plotly]\n",
      "   -------------------- ------------------- 1/2 [plotly]\n",
      "   -------------------- ------------------- 1/2 [plotly]\n",
      "   -------------------- ------------------- 1/2 [plotly]\n",
      "   -------------------- ------------------- 1/2 [plotly]\n",
      "   -------------------- ------------------- 1/2 [plotly]\n",
      "   -------------------- ------------------- 1/2 [plotly]\n",
      "   -------------------- ------------------- 1/2 [plotly]\n",
      "   -------------------- ------------------- 1/2 [plotly]\n",
      "   -------------------- ------------------- 1/2 [plotly]\n",
      "   -------------------- ------------------- 1/2 [plotly]\n",
      "   -------------------- ------------------- 1/2 [plotly]\n",
      "   -------------------- ------------------- 1/2 [plotly]\n",
      "   -------------------- ------------------- 1/2 [plotly]\n",
      "   -------------------- ------------------- 1/2 [plotly]\n",
      "   -------------------- ------------------- 1/2 [plotly]\n",
      "   -------------------- ------------------- 1/2 [plotly]\n",
      "   -------------------- ------------------- 1/2 [plotly]\n",
      "   -------------------- ------------------- 1/2 [plotly]\n",
      "   -------------------- ------------------- 1/2 [plotly]\n",
      "   -------------------- ------------------- 1/2 [plotly]\n",
      "   -------------------- ------------------- 1/2 [plotly]\n",
      "   -------------------- ------------------- 1/2 [plotly]\n",
      "   -------------------- ------------------- 1/2 [plotly]\n",
      "   -------------------- ------------------- 1/2 [plotly]\n",
      "   -------------------- ------------------- 1/2 [plotly]\n",
      "   -------------------- ------------------- 1/2 [plotly]\n",
      "   -------------------- ------------------- 1/2 [plotly]\n",
      "   -------------------- ------------------- 1/2 [plotly]\n",
      "   -------------------- ------------------- 1/2 [plotly]\n",
      "   -------------------- ------------------- 1/2 [plotly]\n",
      "   -------------------- ------------------- 1/2 [plotly]\n",
      "   -------------------- ------------------- 1/2 [plotly]\n",
      "   -------------------- ------------------- 1/2 [plotly]\n",
      "   -------------------- ------------------- 1/2 [plotly]\n",
      "   -------------------- ------------------- 1/2 [plotly]\n",
      "   -------------------- ------------------- 1/2 [plotly]\n",
      "   -------------------- ------------------- 1/2 [plotly]\n",
      "   -------------------- ------------------- 1/2 [plotly]\n",
      "   -------------------- ------------------- 1/2 [plotly]\n",
      "   -------------------- ------------------- 1/2 [plotly]\n",
      "   -------------------- ------------------- 1/2 [plotly]\n",
      "   -------------------- ------------------- 1/2 [plotly]\n",
      "   -------------------- ------------------- 1/2 [plotly]\n",
      "   -------------------- ------------------- 1/2 [plotly]\n",
      "   -------------------- ------------------- 1/2 [plotly]\n",
      "   -------------------- ------------------- 1/2 [plotly]\n",
      "   -------------------- ------------------- 1/2 [plotly]\n",
      "   -------------------- ------------------- 1/2 [plotly]\n",
      "   -------------------- ------------------- 1/2 [plotly]\n",
      "   -------------------- ------------------- 1/2 [plotly]\n",
      "   -------------------- ------------------- 1/2 [plotly]\n",
      "   -------------------- ------------------- 1/2 [plotly]\n",
      "   -------------------- ------------------- 1/2 [plotly]\n",
      "   -------------------- ------------------- 1/2 [plotly]\n",
      "   -------------------- ------------------- 1/2 [plotly]\n",
      "   -------------------- ------------------- 1/2 [plotly]\n",
      "   -------------------- ------------------- 1/2 [plotly]\n",
      "   -------------------- ------------------- 1/2 [plotly]\n",
      "   -------------------- ------------------- 1/2 [plotly]\n",
      "   -------------------- ------------------- 1/2 [plotly]\n",
      "   -------------------- ------------------- 1/2 [plotly]\n",
      "   -------------------- ------------------- 1/2 [plotly]\n",
      "   -------------------- ------------------- 1/2 [plotly]\n",
      "   -------------------- ------------------- 1/2 [plotly]\n",
      "   -------------------- ------------------- 1/2 [plotly]\n",
      "   -------------------- ------------------- 1/2 [plotly]\n",
      "   -------------------- ------------------- 1/2 [plotly]\n",
      "   -------------------- ------------------- 1/2 [plotly]\n",
      "   -------------------- ------------------- 1/2 [plotly]\n",
      "   -------------------- ------------------- 1/2 [plotly]\n",
      "   -------------------- ------------------- 1/2 [plotly]\n",
      "   -------------------- ------------------- 1/2 [plotly]\n",
      "   -------------------- ------------------- 1/2 [plotly]\n",
      "   ---------------------------------------- 2/2 [plotly]\n",
      "\n",
      "Successfully installed narwhals-2.5.0 plotly-6.3.0\n",
      "Requirement already satisfied: jupyterlab>=3 in c:\\users\\sindr\\appdata\\local\\packages\\pythonsoftwarefoundation.python.3.11_qbz5n2kfra8p0\\localcache\\local-packages\\python311\\site-packages (4.4.7)\n",
      "Collecting ipywidgets>=7.6\n",
      "  Downloading ipywidgets-8.1.7-py3-none-any.whl.metadata (2.4 kB)\n",
      "Requirement already satisfied: async-lru>=1.0.0 in c:\\users\\sindr\\appdata\\local\\packages\\pythonsoftwarefoundation.python.3.11_qbz5n2kfra8p0\\localcache\\local-packages\\python311\\site-packages (from jupyterlab>=3) (2.0.5)\n",
      "Requirement already satisfied: httpx<1,>=0.25.0 in c:\\users\\sindr\\appdata\\local\\packages\\pythonsoftwarefoundation.python.3.11_qbz5n2kfra8p0\\localcache\\local-packages\\python311\\site-packages (from jupyterlab>=3) (0.28.1)\n",
      "Requirement already satisfied: ipykernel!=6.30.0,>=6.5.0 in c:\\users\\sindr\\appdata\\local\\packages\\pythonsoftwarefoundation.python.3.11_qbz5n2kfra8p0\\localcache\\local-packages\\python311\\site-packages (from jupyterlab>=3) (6.30.1)\n",
      "Requirement already satisfied: jinja2>=3.0.3 in c:\\users\\sindr\\appdata\\local\\packages\\pythonsoftwarefoundation.python.3.11_qbz5n2kfra8p0\\localcache\\local-packages\\python311\\site-packages (from jupyterlab>=3) (3.1.6)\n",
      "Requirement already satisfied: jupyter-core in c:\\users\\sindr\\appdata\\local\\packages\\pythonsoftwarefoundation.python.3.11_qbz5n2kfra8p0\\localcache\\local-packages\\python311\\site-packages (from jupyterlab>=3) (5.8.1)\n",
      "Requirement already satisfied: jupyter-lsp>=2.0.0 in c:\\users\\sindr\\appdata\\local\\packages\\pythonsoftwarefoundation.python.3.11_qbz5n2kfra8p0\\localcache\\local-packages\\python311\\site-packages (from jupyterlab>=3) (2.3.0)\n",
      "Requirement already satisfied: jupyter-server<3,>=2.4.0 in c:\\users\\sindr\\appdata\\local\\packages\\pythonsoftwarefoundation.python.3.11_qbz5n2kfra8p0\\localcache\\local-packages\\python311\\site-packages (from jupyterlab>=3) (2.17.0)\n",
      "Requirement already satisfied: jupyterlab-server<3,>=2.27.1 in c:\\users\\sindr\\appdata\\local\\packages\\pythonsoftwarefoundation.python.3.11_qbz5n2kfra8p0\\localcache\\local-packages\\python311\\site-packages (from jupyterlab>=3) (2.27.3)\n",
      "Requirement already satisfied: notebook-shim>=0.2 in c:\\users\\sindr\\appdata\\local\\packages\\pythonsoftwarefoundation.python.3.11_qbz5n2kfra8p0\\localcache\\local-packages\\python311\\site-packages (from jupyterlab>=3) (0.2.4)\n",
      "Requirement already satisfied: packaging in c:\\users\\sindr\\appdata\\local\\packages\\pythonsoftwarefoundation.python.3.11_qbz5n2kfra8p0\\localcache\\local-packages\\python311\\site-packages (from jupyterlab>=3) (24.2)\n",
      "Requirement already satisfied: setuptools>=41.1.0 in c:\\users\\sindr\\appdata\\local\\packages\\pythonsoftwarefoundation.python.3.11_qbz5n2kfra8p0\\localcache\\local-packages\\python311\\site-packages (from jupyterlab>=3) (80.9.0)\n",
      "Requirement already satisfied: tornado>=6.2.0 in c:\\users\\sindr\\appdata\\local\\packages\\pythonsoftwarefoundation.python.3.11_qbz5n2kfra8p0\\localcache\\local-packages\\python311\\site-packages (from jupyterlab>=3) (6.5.2)\n",
      "Requirement already satisfied: traitlets in c:\\users\\sindr\\appdata\\local\\packages\\pythonsoftwarefoundation.python.3.11_qbz5n2kfra8p0\\localcache\\local-packages\\python311\\site-packages (from jupyterlab>=3) (5.14.3)\n",
      "Requirement already satisfied: anyio in c:\\users\\sindr\\appdata\\local\\packages\\pythonsoftwarefoundation.python.3.11_qbz5n2kfra8p0\\localcache\\local-packages\\python311\\site-packages (from httpx<1,>=0.25.0->jupyterlab>=3) (4.10.0)\n",
      "Requirement already satisfied: certifi in c:\\users\\sindr\\appdata\\local\\packages\\pythonsoftwarefoundation.python.3.11_qbz5n2kfra8p0\\localcache\\local-packages\\python311\\site-packages (from httpx<1,>=0.25.0->jupyterlab>=3) (2025.8.3)\n",
      "Requirement already satisfied: httpcore==1.* in c:\\users\\sindr\\appdata\\local\\packages\\pythonsoftwarefoundation.python.3.11_qbz5n2kfra8p0\\localcache\\local-packages\\python311\\site-packages (from httpx<1,>=0.25.0->jupyterlab>=3) (1.0.9)\n",
      "Requirement already satisfied: idna in c:\\users\\sindr\\appdata\\local\\packages\\pythonsoftwarefoundation.python.3.11_qbz5n2kfra8p0\\localcache\\local-packages\\python311\\site-packages (from httpx<1,>=0.25.0->jupyterlab>=3) (3.10)\n",
      "Requirement already satisfied: h11>=0.16 in c:\\users\\sindr\\appdata\\local\\packages\\pythonsoftwarefoundation.python.3.11_qbz5n2kfra8p0\\localcache\\local-packages\\python311\\site-packages (from httpcore==1.*->httpx<1,>=0.25.0->jupyterlab>=3) (0.16.0)\n",
      "Requirement already satisfied: argon2-cffi>=21.1 in c:\\users\\sindr\\appdata\\local\\packages\\pythonsoftwarefoundation.python.3.11_qbz5n2kfra8p0\\localcache\\local-packages\\python311\\site-packages (from jupyter-server<3,>=2.4.0->jupyterlab>=3) (23.1.0)\n",
      "Requirement already satisfied: jupyter-client>=7.4.4 in c:\\users\\sindr\\appdata\\local\\packages\\pythonsoftwarefoundation.python.3.11_qbz5n2kfra8p0\\localcache\\local-packages\\python311\\site-packages (from jupyter-server<3,>=2.4.0->jupyterlab>=3) (8.6.3)\n",
      "Requirement already satisfied: jupyter-events>=0.11.0 in c:\\users\\sindr\\appdata\\local\\packages\\pythonsoftwarefoundation.python.3.11_qbz5n2kfra8p0\\localcache\\local-packages\\python311\\site-packages (from jupyter-server<3,>=2.4.0->jupyterlab>=3) (0.12.0)\n",
      "Requirement already satisfied: jupyter-server-terminals>=0.4.4 in c:\\users\\sindr\\appdata\\local\\packages\\pythonsoftwarefoundation.python.3.11_qbz5n2kfra8p0\\localcache\\local-packages\\python311\\site-packages (from jupyter-server<3,>=2.4.0->jupyterlab>=3) (0.5.3)\n",
      "Requirement already satisfied: nbconvert>=6.4.4 in c:\\users\\sindr\\appdata\\local\\packages\\pythonsoftwarefoundation.python.3.11_qbz5n2kfra8p0\\localcache\\local-packages\\python311\\site-packages (from jupyter-server<3,>=2.4.0->jupyterlab>=3) (7.16.6)\n",
      "Requirement already satisfied: nbformat>=5.3.0 in c:\\users\\sindr\\appdata\\local\\packages\\pythonsoftwarefoundation.python.3.11_qbz5n2kfra8p0\\localcache\\local-packages\\python311\\site-packages (from jupyter-server<3,>=2.4.0->jupyterlab>=3) (5.10.4)\n",
      "Requirement already satisfied: overrides>=5.0 in c:\\users\\sindr\\appdata\\local\\packages\\pythonsoftwarefoundation.python.3.11_qbz5n2kfra8p0\\localcache\\local-packages\\python311\\site-packages (from jupyter-server<3,>=2.4.0->jupyterlab>=3) (7.7.0)\n",
      "Requirement already satisfied: prometheus-client>=0.9 in c:\\users\\sindr\\appdata\\local\\packages\\pythonsoftwarefoundation.python.3.11_qbz5n2kfra8p0\\localcache\\local-packages\\python311\\site-packages (from jupyter-server<3,>=2.4.0->jupyterlab>=3) (0.23.1)\n",
      "Requirement already satisfied: pywinpty>=2.0.1 in c:\\users\\sindr\\appdata\\local\\packages\\pythonsoftwarefoundation.python.3.11_qbz5n2kfra8p0\\localcache\\local-packages\\python311\\site-packages (from jupyter-server<3,>=2.4.0->jupyterlab>=3) (3.0.0)\n",
      "Requirement already satisfied: pyzmq>=24 in c:\\users\\sindr\\appdata\\local\\packages\\pythonsoftwarefoundation.python.3.11_qbz5n2kfra8p0\\localcache\\local-packages\\python311\\site-packages (from jupyter-server<3,>=2.4.0->jupyterlab>=3) (27.1.0)\n",
      "Requirement already satisfied: send2trash>=1.8.2 in c:\\users\\sindr\\appdata\\local\\packages\\pythonsoftwarefoundation.python.3.11_qbz5n2kfra8p0\\localcache\\local-packages\\python311\\site-packages (from jupyter-server<3,>=2.4.0->jupyterlab>=3) (1.8.3)\n",
      "Requirement already satisfied: terminado>=0.8.3 in c:\\users\\sindr\\appdata\\local\\packages\\pythonsoftwarefoundation.python.3.11_qbz5n2kfra8p0\\localcache\\local-packages\\python311\\site-packages (from jupyter-server<3,>=2.4.0->jupyterlab>=3) (0.18.1)\n",
      "Requirement already satisfied: websocket-client>=1.7 in c:\\users\\sindr\\appdata\\local\\packages\\pythonsoftwarefoundation.python.3.11_qbz5n2kfra8p0\\localcache\\local-packages\\python311\\site-packages (from jupyter-server<3,>=2.4.0->jupyterlab>=3) (1.8.0)\n",
      "Requirement already satisfied: babel>=2.10 in c:\\users\\sindr\\appdata\\local\\packages\\pythonsoftwarefoundation.python.3.11_qbz5n2kfra8p0\\localcache\\local-packages\\python311\\site-packages (from jupyterlab-server<3,>=2.27.1->jupyterlab>=3) (2.17.0)\n",
      "Requirement already satisfied: json5>=0.9.0 in c:\\users\\sindr\\appdata\\local\\packages\\pythonsoftwarefoundation.python.3.11_qbz5n2kfra8p0\\localcache\\local-packages\\python311\\site-packages (from jupyterlab-server<3,>=2.27.1->jupyterlab>=3) (0.12.1)\n",
      "Requirement already satisfied: jsonschema>=4.18.0 in c:\\users\\sindr\\appdata\\local\\packages\\pythonsoftwarefoundation.python.3.11_qbz5n2kfra8p0\\localcache\\local-packages\\python311\\site-packages (from jupyterlab-server<3,>=2.27.1->jupyterlab>=3) (4.25.1)\n",
      "Requirement already satisfied: requests>=2.31 in c:\\users\\sindr\\appdata\\local\\packages\\pythonsoftwarefoundation.python.3.11_qbz5n2kfra8p0\\localcache\\local-packages\\python311\\site-packages (from jupyterlab-server<3,>=2.27.1->jupyterlab>=3) (2.32.4)\n",
      "Requirement already satisfied: comm>=0.1.3 in c:\\users\\sindr\\appdata\\local\\packages\\pythonsoftwarefoundation.python.3.11_qbz5n2kfra8p0\\localcache\\local-packages\\python311\\site-packages (from ipywidgets>=7.6) (0.2.3)\n",
      "Requirement already satisfied: ipython>=6.1.0 in c:\\users\\sindr\\appdata\\local\\packages\\pythonsoftwarefoundation.python.3.11_qbz5n2kfra8p0\\localcache\\local-packages\\python311\\site-packages (from ipywidgets>=7.6) (9.5.0)\n",
      "Collecting widgetsnbextension~=4.0.14 (from ipywidgets>=7.6)\n",
      "  Downloading widgetsnbextension-4.0.14-py3-none-any.whl.metadata (1.6 kB)\n",
      "Collecting jupyterlab_widgets~=3.0.15 (from ipywidgets>=7.6)\n",
      "  Downloading jupyterlab_widgets-3.0.15-py3-none-any.whl.metadata (20 kB)\n",
      "Requirement already satisfied: sniffio>=1.1 in c:\\users\\sindr\\appdata\\local\\packages\\pythonsoftwarefoundation.python.3.11_qbz5n2kfra8p0\\localcache\\local-packages\\python311\\site-packages (from anyio->httpx<1,>=0.25.0->jupyterlab>=3) (1.3.1)\n",
      "Requirement already satisfied: typing_extensions>=4.5 in c:\\users\\sindr\\appdata\\local\\packages\\pythonsoftwarefoundation.python.3.11_qbz5n2kfra8p0\\localcache\\local-packages\\python311\\site-packages (from anyio->httpx<1,>=0.25.0->jupyterlab>=3) (4.15.0)\n",
      "Requirement already satisfied: argon2-cffi-bindings in c:\\users\\sindr\\appdata\\local\\packages\\pythonsoftwarefoundation.python.3.11_qbz5n2kfra8p0\\localcache\\local-packages\\python311\\site-packages (from argon2-cffi>=21.1->jupyter-server<3,>=2.4.0->jupyterlab>=3) (25.1.0)\n",
      "Requirement already satisfied: debugpy>=1.6.5 in c:\\users\\sindr\\appdata\\local\\packages\\pythonsoftwarefoundation.python.3.11_qbz5n2kfra8p0\\localcache\\local-packages\\python311\\site-packages (from ipykernel!=6.30.0,>=6.5.0->jupyterlab>=3) (1.8.17)\n",
      "Requirement already satisfied: matplotlib-inline>=0.1 in c:\\users\\sindr\\appdata\\local\\packages\\pythonsoftwarefoundation.python.3.11_qbz5n2kfra8p0\\localcache\\local-packages\\python311\\site-packages (from ipykernel!=6.30.0,>=6.5.0->jupyterlab>=3) (0.1.7)\n",
      "Requirement already satisfied: nest-asyncio>=1.4 in c:\\users\\sindr\\appdata\\local\\packages\\pythonsoftwarefoundation.python.3.11_qbz5n2kfra8p0\\localcache\\local-packages\\python311\\site-packages (from ipykernel!=6.30.0,>=6.5.0->jupyterlab>=3) (1.6.0)\n",
      "Requirement already satisfied: psutil>=5.7 in c:\\users\\sindr\\appdata\\local\\packages\\pythonsoftwarefoundation.python.3.11_qbz5n2kfra8p0\\localcache\\local-packages\\python311\\site-packages (from ipykernel!=6.30.0,>=6.5.0->jupyterlab>=3) (7.0.0)\n",
      "Requirement already satisfied: colorama in c:\\users\\sindr\\appdata\\local\\packages\\pythonsoftwarefoundation.python.3.11_qbz5n2kfra8p0\\localcache\\local-packages\\python311\\site-packages (from ipython>=6.1.0->ipywidgets>=7.6) (0.4.6)\n",
      "Requirement already satisfied: decorator in c:\\users\\sindr\\appdata\\local\\packages\\pythonsoftwarefoundation.python.3.11_qbz5n2kfra8p0\\localcache\\local-packages\\python311\\site-packages (from ipython>=6.1.0->ipywidgets>=7.6) (5.2.1)\n",
      "Requirement already satisfied: ipython-pygments-lexers in c:\\users\\sindr\\appdata\\local\\packages\\pythonsoftwarefoundation.python.3.11_qbz5n2kfra8p0\\localcache\\local-packages\\python311\\site-packages (from ipython>=6.1.0->ipywidgets>=7.6) (1.1.1)\n",
      "Requirement already satisfied: jedi>=0.16 in c:\\users\\sindr\\appdata\\local\\packages\\pythonsoftwarefoundation.python.3.11_qbz5n2kfra8p0\\localcache\\local-packages\\python311\\site-packages (from ipython>=6.1.0->ipywidgets>=7.6) (0.19.2)\n",
      "Requirement already satisfied: prompt_toolkit<3.1.0,>=3.0.41 in c:\\users\\sindr\\appdata\\local\\packages\\pythonsoftwarefoundation.python.3.11_qbz5n2kfra8p0\\localcache\\local-packages\\python311\\site-packages (from ipython>=6.1.0->ipywidgets>=7.6) (3.0.52)\n",
      "Requirement already satisfied: pygments>=2.4.0 in c:\\users\\sindr\\appdata\\local\\packages\\pythonsoftwarefoundation.python.3.11_qbz5n2kfra8p0\\localcache\\local-packages\\python311\\site-packages (from ipython>=6.1.0->ipywidgets>=7.6) (2.19.2)\n",
      "Requirement already satisfied: stack_data in c:\\users\\sindr\\appdata\\local\\packages\\pythonsoftwarefoundation.python.3.11_qbz5n2kfra8p0\\localcache\\local-packages\\python311\\site-packages (from ipython>=6.1.0->ipywidgets>=7.6) (0.6.3)\n",
      "Requirement already satisfied: wcwidth in c:\\users\\sindr\\appdata\\local\\packages\\pythonsoftwarefoundation.python.3.11_qbz5n2kfra8p0\\localcache\\local-packages\\python311\\site-packages (from prompt_toolkit<3.1.0,>=3.0.41->ipython>=6.1.0->ipywidgets>=7.6) (0.2.13)\n",
      "Requirement already satisfied: parso<0.9.0,>=0.8.4 in c:\\users\\sindr\\appdata\\local\\packages\\pythonsoftwarefoundation.python.3.11_qbz5n2kfra8p0\\localcache\\local-packages\\python311\\site-packages (from jedi>=0.16->ipython>=6.1.0->ipywidgets>=7.6) (0.8.5)\n",
      "Requirement already satisfied: MarkupSafe>=2.0 in c:\\users\\sindr\\appdata\\local\\packages\\pythonsoftwarefoundation.python.3.11_qbz5n2kfra8p0\\localcache\\local-packages\\python311\\site-packages (from jinja2>=3.0.3->jupyterlab>=3) (3.0.2)\n",
      "Requirement already satisfied: attrs>=22.2.0 in c:\\users\\sindr\\appdata\\local\\packages\\pythonsoftwarefoundation.python.3.11_qbz5n2kfra8p0\\localcache\\local-packages\\python311\\site-packages (from jsonschema>=4.18.0->jupyterlab-server<3,>=2.27.1->jupyterlab>=3) (25.3.0)\n",
      "Requirement already satisfied: jsonschema-specifications>=2023.03.6 in c:\\users\\sindr\\appdata\\local\\packages\\pythonsoftwarefoundation.python.3.11_qbz5n2kfra8p0\\localcache\\local-packages\\python311\\site-packages (from jsonschema>=4.18.0->jupyterlab-server<3,>=2.27.1->jupyterlab>=3) (2025.9.1)\n",
      "Requirement already satisfied: referencing>=0.28.4 in c:\\users\\sindr\\appdata\\local\\packages\\pythonsoftwarefoundation.python.3.11_qbz5n2kfra8p0\\localcache\\local-packages\\python311\\site-packages (from jsonschema>=4.18.0->jupyterlab-server<3,>=2.27.1->jupyterlab>=3) (0.36.2)\n",
      "Requirement already satisfied: rpds-py>=0.7.1 in c:\\users\\sindr\\appdata\\local\\packages\\pythonsoftwarefoundation.python.3.11_qbz5n2kfra8p0\\localcache\\local-packages\\python311\\site-packages (from jsonschema>=4.18.0->jupyterlab-server<3,>=2.27.1->jupyterlab>=3) (0.27.1)\n",
      "Requirement already satisfied: python-dateutil>=2.8.2 in c:\\users\\sindr\\appdata\\local\\packages\\pythonsoftwarefoundation.python.3.11_qbz5n2kfra8p0\\localcache\\local-packages\\python311\\site-packages (from jupyter-client>=7.4.4->jupyter-server<3,>=2.4.0->jupyterlab>=3) (2.9.0.post0)\n",
      "Requirement already satisfied: platformdirs>=2.5 in c:\\users\\sindr\\appdata\\local\\packages\\pythonsoftwarefoundation.python.3.11_qbz5n2kfra8p0\\localcache\\local-packages\\python311\\site-packages (from jupyter-core->jupyterlab>=3) (4.4.0)\n",
      "Requirement already satisfied: pywin32>=300 in c:\\users\\sindr\\appdata\\local\\packages\\pythonsoftwarefoundation.python.3.11_qbz5n2kfra8p0\\localcache\\local-packages\\python311\\site-packages (from jupyter-core->jupyterlab>=3) (311)\n",
      "Requirement already satisfied: python-json-logger>=2.0.4 in c:\\users\\sindr\\appdata\\local\\packages\\pythonsoftwarefoundation.python.3.11_qbz5n2kfra8p0\\localcache\\local-packages\\python311\\site-packages (from jupyter-events>=0.11.0->jupyter-server<3,>=2.4.0->jupyterlab>=3) (3.3.0)\n",
      "Requirement already satisfied: pyyaml>=5.3 in c:\\users\\sindr\\appdata\\local\\packages\\pythonsoftwarefoundation.python.3.11_qbz5n2kfra8p0\\localcache\\local-packages\\python311\\site-packages (from jupyter-events>=0.11.0->jupyter-server<3,>=2.4.0->jupyterlab>=3) (6.0.2)\n",
      "Requirement already satisfied: rfc3339-validator in c:\\users\\sindr\\appdata\\local\\packages\\pythonsoftwarefoundation.python.3.11_qbz5n2kfra8p0\\localcache\\local-packages\\python311\\site-packages (from jupyter-events>=0.11.0->jupyter-server<3,>=2.4.0->jupyterlab>=3) (0.1.4)\n",
      "Requirement already satisfied: rfc3986-validator>=0.1.1 in c:\\users\\sindr\\appdata\\local\\packages\\pythonsoftwarefoundation.python.3.11_qbz5n2kfra8p0\\localcache\\local-packages\\python311\\site-packages (from jupyter-events>=0.11.0->jupyter-server<3,>=2.4.0->jupyterlab>=3) (0.1.1)\n",
      "Requirement already satisfied: fqdn in c:\\users\\sindr\\appdata\\local\\packages\\pythonsoftwarefoundation.python.3.11_qbz5n2kfra8p0\\localcache\\local-packages\\python311\\site-packages (from jsonschema[format-nongpl]>=4.18.0->jupyter-events>=0.11.0->jupyter-server<3,>=2.4.0->jupyterlab>=3) (1.5.1)\n",
      "Requirement already satisfied: isoduration in c:\\users\\sindr\\appdata\\local\\packages\\pythonsoftwarefoundation.python.3.11_qbz5n2kfra8p0\\localcache\\local-packages\\python311\\site-packages (from jsonschema[format-nongpl]>=4.18.0->jupyter-events>=0.11.0->jupyter-server<3,>=2.4.0->jupyterlab>=3) (20.11.0)\n",
      "Requirement already satisfied: jsonpointer>1.13 in c:\\users\\sindr\\appdata\\local\\packages\\pythonsoftwarefoundation.python.3.11_qbz5n2kfra8p0\\localcache\\local-packages\\python311\\site-packages (from jsonschema[format-nongpl]>=4.18.0->jupyter-events>=0.11.0->jupyter-server<3,>=2.4.0->jupyterlab>=3) (3.0.0)\n",
      "Requirement already satisfied: rfc3987-syntax>=1.1.0 in c:\\users\\sindr\\appdata\\local\\packages\\pythonsoftwarefoundation.python.3.11_qbz5n2kfra8p0\\localcache\\local-packages\\python311\\site-packages (from jsonschema[format-nongpl]>=4.18.0->jupyter-events>=0.11.0->jupyter-server<3,>=2.4.0->jupyterlab>=3) (1.1.0)\n",
      "Requirement already satisfied: uri-template in c:\\users\\sindr\\appdata\\local\\packages\\pythonsoftwarefoundation.python.3.11_qbz5n2kfra8p0\\localcache\\local-packages\\python311\\site-packages (from jsonschema[format-nongpl]>=4.18.0->jupyter-events>=0.11.0->jupyter-server<3,>=2.4.0->jupyterlab>=3) (1.3.0)\n",
      "Requirement already satisfied: webcolors>=24.6.0 in c:\\users\\sindr\\appdata\\local\\packages\\pythonsoftwarefoundation.python.3.11_qbz5n2kfra8p0\\localcache\\local-packages\\python311\\site-packages (from jsonschema[format-nongpl]>=4.18.0->jupyter-events>=0.11.0->jupyter-server<3,>=2.4.0->jupyterlab>=3) (24.11.1)\n",
      "Requirement already satisfied: beautifulsoup4 in c:\\users\\sindr\\appdata\\local\\packages\\pythonsoftwarefoundation.python.3.11_qbz5n2kfra8p0\\localcache\\local-packages\\python311\\site-packages (from nbconvert>=6.4.4->jupyter-server<3,>=2.4.0->jupyterlab>=3) (4.13.5)\n",
      "Requirement already satisfied: bleach!=5.0.0 in c:\\users\\sindr\\appdata\\local\\packages\\pythonsoftwarefoundation.python.3.11_qbz5n2kfra8p0\\localcache\\local-packages\\python311\\site-packages (from bleach[css]!=5.0.0->nbconvert>=6.4.4->jupyter-server<3,>=2.4.0->jupyterlab>=3) (6.2.0)\n",
      "Requirement already satisfied: defusedxml in c:\\users\\sindr\\appdata\\local\\packages\\pythonsoftwarefoundation.python.3.11_qbz5n2kfra8p0\\localcache\\local-packages\\python311\\site-packages (from nbconvert>=6.4.4->jupyter-server<3,>=2.4.0->jupyterlab>=3) (0.7.1)\n",
      "Requirement already satisfied: jupyterlab-pygments in c:\\users\\sindr\\appdata\\local\\packages\\pythonsoftwarefoundation.python.3.11_qbz5n2kfra8p0\\localcache\\local-packages\\python311\\site-packages (from nbconvert>=6.4.4->jupyter-server<3,>=2.4.0->jupyterlab>=3) (0.3.0)\n",
      "Requirement already satisfied: mistune<4,>=2.0.3 in c:\\users\\sindr\\appdata\\local\\packages\\pythonsoftwarefoundation.python.3.11_qbz5n2kfra8p0\\localcache\\local-packages\\python311\\site-packages (from nbconvert>=6.4.4->jupyter-server<3,>=2.4.0->jupyterlab>=3) (3.1.4)\n",
      "Requirement already satisfied: nbclient>=0.5.0 in c:\\users\\sindr\\appdata\\local\\packages\\pythonsoftwarefoundation.python.3.11_qbz5n2kfra8p0\\localcache\\local-packages\\python311\\site-packages (from nbconvert>=6.4.4->jupyter-server<3,>=2.4.0->jupyterlab>=3) (0.10.2)\n",
      "Requirement already satisfied: pandocfilters>=1.4.1 in c:\\users\\sindr\\appdata\\local\\packages\\pythonsoftwarefoundation.python.3.11_qbz5n2kfra8p0\\localcache\\local-packages\\python311\\site-packages (from nbconvert>=6.4.4->jupyter-server<3,>=2.4.0->jupyterlab>=3) (1.5.1)\n",
      "Requirement already satisfied: webencodings in c:\\users\\sindr\\appdata\\local\\packages\\pythonsoftwarefoundation.python.3.11_qbz5n2kfra8p0\\localcache\\local-packages\\python311\\site-packages (from bleach!=5.0.0->bleach[css]!=5.0.0->nbconvert>=6.4.4->jupyter-server<3,>=2.4.0->jupyterlab>=3) (0.5.1)\n",
      "Requirement already satisfied: tinycss2<1.5,>=1.1.0 in c:\\users\\sindr\\appdata\\local\\packages\\pythonsoftwarefoundation.python.3.11_qbz5n2kfra8p0\\localcache\\local-packages\\python311\\site-packages (from bleach[css]!=5.0.0->nbconvert>=6.4.4->jupyter-server<3,>=2.4.0->jupyterlab>=3) (1.4.0)\n",
      "Requirement already satisfied: fastjsonschema>=2.15 in c:\\users\\sindr\\appdata\\local\\packages\\pythonsoftwarefoundation.python.3.11_qbz5n2kfra8p0\\localcache\\local-packages\\python311\\site-packages (from nbformat>=5.3.0->jupyter-server<3,>=2.4.0->jupyterlab>=3) (2.21.2)\n",
      "Requirement already satisfied: six>=1.5 in c:\\users\\sindr\\appdata\\local\\packages\\pythonsoftwarefoundation.python.3.11_qbz5n2kfra8p0\\localcache\\local-packages\\python311\\site-packages (from python-dateutil>=2.8.2->jupyter-client>=7.4.4->jupyter-server<3,>=2.4.0->jupyterlab>=3) (1.17.0)\n",
      "Requirement already satisfied: charset_normalizer<4,>=2 in c:\\users\\sindr\\appdata\\local\\packages\\pythonsoftwarefoundation.python.3.11_qbz5n2kfra8p0\\localcache\\local-packages\\python311\\site-packages (from requests>=2.31->jupyterlab-server<3,>=2.27.1->jupyterlab>=3) (3.4.3)\n",
      "Requirement already satisfied: urllib3<3,>=1.21.1 in c:\\users\\sindr\\appdata\\local\\packages\\pythonsoftwarefoundation.python.3.11_qbz5n2kfra8p0\\localcache\\local-packages\\python311\\site-packages (from requests>=2.31->jupyterlab-server<3,>=2.27.1->jupyterlab>=3) (2.5.0)\n",
      "Requirement already satisfied: lark>=1.2.2 in c:\\users\\sindr\\appdata\\local\\packages\\pythonsoftwarefoundation.python.3.11_qbz5n2kfra8p0\\localcache\\local-packages\\python311\\site-packages (from rfc3987-syntax>=1.1.0->jsonschema[format-nongpl]>=4.18.0->jupyter-events>=0.11.0->jupyter-server<3,>=2.4.0->jupyterlab>=3) (1.3.0)\n",
      "Requirement already satisfied: cffi>=1.0.1 in c:\\users\\sindr\\appdata\\local\\packages\\pythonsoftwarefoundation.python.3.11_qbz5n2kfra8p0\\localcache\\local-packages\\python311\\site-packages (from argon2-cffi-bindings->argon2-cffi>=21.1->jupyter-server<3,>=2.4.0->jupyterlab>=3) (1.17.1)\n",
      "Requirement already satisfied: pycparser in c:\\users\\sindr\\appdata\\local\\packages\\pythonsoftwarefoundation.python.3.11_qbz5n2kfra8p0\\localcache\\local-packages\\python311\\site-packages (from cffi>=1.0.1->argon2-cffi-bindings->argon2-cffi>=21.1->jupyter-server<3,>=2.4.0->jupyterlab>=3) (2.22)\n",
      "Requirement already satisfied: soupsieve>1.2 in c:\\users\\sindr\\appdata\\local\\packages\\pythonsoftwarefoundation.python.3.11_qbz5n2kfra8p0\\localcache\\local-packages\\python311\\site-packages (from beautifulsoup4->nbconvert>=6.4.4->jupyter-server<3,>=2.4.0->jupyterlab>=3) (2.8)\n",
      "Requirement already satisfied: arrow>=0.15.0 in c:\\users\\sindr\\appdata\\local\\packages\\pythonsoftwarefoundation.python.3.11_qbz5n2kfra8p0\\localcache\\local-packages\\python311\\site-packages (from isoduration->jsonschema[format-nongpl]>=4.18.0->jupyter-events>=0.11.0->jupyter-server<3,>=2.4.0->jupyterlab>=3) (1.3.0)\n",
      "Requirement already satisfied: types-python-dateutil>=2.8.10 in c:\\users\\sindr\\appdata\\local\\packages\\pythonsoftwarefoundation.python.3.11_qbz5n2kfra8p0\\localcache\\local-packages\\python311\\site-packages (from arrow>=0.15.0->isoduration->jsonschema[format-nongpl]>=4.18.0->jupyter-events>=0.11.0->jupyter-server<3,>=2.4.0->jupyterlab>=3) (2.9.0.20250822)\n",
      "Requirement already satisfied: executing>=1.2.0 in c:\\users\\sindr\\appdata\\local\\packages\\pythonsoftwarefoundation.python.3.11_qbz5n2kfra8p0\\localcache\\local-packages\\python311\\site-packages (from stack_data->ipython>=6.1.0->ipywidgets>=7.6) (2.2.1)\n",
      "Requirement already satisfied: asttokens>=2.1.0 in c:\\users\\sindr\\appdata\\local\\packages\\pythonsoftwarefoundation.python.3.11_qbz5n2kfra8p0\\localcache\\local-packages\\python311\\site-packages (from stack_data->ipython>=6.1.0->ipywidgets>=7.6) (3.0.0)\n",
      "Requirement already satisfied: pure-eval in c:\\users\\sindr\\appdata\\local\\packages\\pythonsoftwarefoundation.python.3.11_qbz5n2kfra8p0\\localcache\\local-packages\\python311\\site-packages (from stack_data->ipython>=6.1.0->ipywidgets>=7.6) (0.2.3)\n",
      "Downloading ipywidgets-8.1.7-py3-none-any.whl (139 kB)\n",
      "Downloading jupyterlab_widgets-3.0.15-py3-none-any.whl (216 kB)\n",
      "Downloading widgetsnbextension-4.0.14-py3-none-any.whl (2.2 MB)\n",
      "   ---------------------------------------- 0.0/2.2 MB ? eta -:--:--\n",
      "   ---------------------------------------- 2.2/2.2 MB 24.8 MB/s  0:00:00\n",
      "Installing collected packages: widgetsnbextension, jupyterlab_widgets, ipywidgets\n",
      "\n",
      "   -------------------------- ------------- 2/3 [ipywidgets]\n",
      "   -------------------------- ------------- 2/3 [ipywidgets]\n",
      "   -------------------------- ------------- 2/3 [ipywidgets]\n",
      "   -------------------------- ------------- 2/3 [ipywidgets]\n",
      "   -------------------------- ------------- 2/3 [ipywidgets]\n",
      "   ---------------------------------------- 3/3 [ipywidgets]\n",
      "\n",
      "Successfully installed ipywidgets-8.1.7 jupyterlab_widgets-3.0.15 widgetsnbextension-4.0.14\n",
      "You may have to restart jupyter to see graphs in the notebook.\n"
     ]
    }
   ],
   "source": [
    "# installs plotly\n",
    "!pip install plotly\n",
    "!pip install \"jupyterlab>=3\" \"ipywidgets>=7.6\"\n",
    "\n",
    "print(\"You may have to restart jupyter to see graphs in the notebook.\")"
   ]
  },
  {
   "cell_type": "code",
   "execution_count": 16,
   "metadata": {
    "scrolled": true
   },
   "outputs": [
    {
     "data": {
      "application/vnd.plotly.v1+json": {
       "config": {
        "plotlyServerURL": "https://plot.ly"
       },
       "data": [
        {
         "hovertemplate": "x=%{x}<br>y=%{y}<extra></extra>",
         "legendgroup": "",
         "line": {
          "color": "#636efa",
          "dash": "solid"
         },
         "marker": {
          "symbol": "circle"
         },
         "mode": "lines",
         "name": "",
         "orientation": "v",
         "showlegend": false,
         "type": "scatter",
         "x": {
          "bdata": "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",
          "dtype": "f8"
         },
         "xaxis": "x",
         "y": {
          "bdata": "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",
          "dtype": "f8"
         },
         "yaxis": "y"
        }
       ],
       "layout": {
        "legend": {
         "tracegroupgap": 0
        },
        "template": {
         "data": {
          "bar": [
           {
            "error_x": {
             "color": "#2a3f5f"
            },
            "error_y": {
             "color": "#2a3f5f"
            },
            "marker": {
             "line": {
              "color": "#E5ECF6",
              "width": 0.5
             },
             "pattern": {
              "fillmode": "overlay",
              "size": 10,
              "solidity": 0.2
             }
            },
            "type": "bar"
           }
          ],
          "barpolar": [
           {
            "marker": {
             "line": {
              "color": "#E5ECF6",
              "width": 0.5
             },
             "pattern": {
              "fillmode": "overlay",
              "size": 10,
              "solidity": 0.2
             }
            },
            "type": "barpolar"
           }
          ],
          "carpet": [
           {
            "aaxis": {
             "endlinecolor": "#2a3f5f",
             "gridcolor": "white",
             "linecolor": "white",
             "minorgridcolor": "white",
             "startlinecolor": "#2a3f5f"
            },
            "baxis": {
             "endlinecolor": "#2a3f5f",
             "gridcolor": "white",
             "linecolor": "white",
             "minorgridcolor": "white",
             "startlinecolor": "#2a3f5f"
            },
            "type": "carpet"
           }
          ],
          "choropleth": [
           {
            "colorbar": {
             "outlinewidth": 0,
             "ticks": ""
            },
            "type": "choropleth"
           }
          ],
          "contour": [
           {
            "colorbar": {
             "outlinewidth": 0,
             "ticks": ""
            },
            "colorscale": [
             [
              0,
              "#0d0887"
             ],
             [
              0.1111111111111111,
              "#46039f"
             ],
             [
              0.2222222222222222,
              "#7201a8"
             ],
             [
              0.3333333333333333,
              "#9c179e"
             ],
             [
              0.4444444444444444,
              "#bd3786"
             ],
             [
              0.5555555555555556,
              "#d8576b"
             ],
             [
              0.6666666666666666,
              "#ed7953"
             ],
             [
              0.7777777777777778,
              "#fb9f3a"
             ],
             [
              0.8888888888888888,
              "#fdca26"
             ],
             [
              1,
              "#f0f921"
             ]
            ],
            "type": "contour"
           }
          ],
          "contourcarpet": [
           {
            "colorbar": {
             "outlinewidth": 0,
             "ticks": ""
            },
            "type": "contourcarpet"
           }
          ],
          "heatmap": [
           {
            "colorbar": {
             "outlinewidth": 0,
             "ticks": ""
            },
            "colorscale": [
             [
              0,
              "#0d0887"
             ],
             [
              0.1111111111111111,
              "#46039f"
             ],
             [
              0.2222222222222222,
              "#7201a8"
             ],
             [
              0.3333333333333333,
              "#9c179e"
             ],
             [
              0.4444444444444444,
              "#bd3786"
             ],
             [
              0.5555555555555556,
              "#d8576b"
             ],
             [
              0.6666666666666666,
              "#ed7953"
             ],
             [
              0.7777777777777778,
              "#fb9f3a"
             ],
             [
              0.8888888888888888,
              "#fdca26"
             ],
             [
              1,
              "#f0f921"
             ]
            ],
            "type": "heatmap"
           }
          ],
          "histogram": [
           {
            "marker": {
             "pattern": {
              "fillmode": "overlay",
              "size": 10,
              "solidity": 0.2
             }
            },
            "type": "histogram"
           }
          ],
          "histogram2d": [
           {
            "colorbar": {
             "outlinewidth": 0,
             "ticks": ""
            },
            "colorscale": [
             [
              0,
              "#0d0887"
             ],
             [
              0.1111111111111111,
              "#46039f"
             ],
             [
              0.2222222222222222,
              "#7201a8"
             ],
             [
              0.3333333333333333,
              "#9c179e"
             ],
             [
              0.4444444444444444,
              "#bd3786"
             ],
             [
              0.5555555555555556,
              "#d8576b"
             ],
             [
              0.6666666666666666,
              "#ed7953"
             ],
             [
              0.7777777777777778,
              "#fb9f3a"
             ],
             [
              0.8888888888888888,
              "#fdca26"
             ],
             [
              1,
              "#f0f921"
             ]
            ],
            "type": "histogram2d"
           }
          ],
          "histogram2dcontour": [
           {
            "colorbar": {
             "outlinewidth": 0,
             "ticks": ""
            },
            "colorscale": [
             [
              0,
              "#0d0887"
             ],
             [
              0.1111111111111111,
              "#46039f"
             ],
             [
              0.2222222222222222,
              "#7201a8"
             ],
             [
              0.3333333333333333,
              "#9c179e"
             ],
             [
              0.4444444444444444,
              "#bd3786"
             ],
             [
              0.5555555555555556,
              "#d8576b"
             ],
             [
              0.6666666666666666,
              "#ed7953"
             ],
             [
              0.7777777777777778,
              "#fb9f3a"
             ],
             [
              0.8888888888888888,
              "#fdca26"
             ],
             [
              1,
              "#f0f921"
             ]
            ],
            "type": "histogram2dcontour"
           }
          ],
          "mesh3d": [
           {
            "colorbar": {
             "outlinewidth": 0,
             "ticks": ""
            },
            "type": "mesh3d"
           }
          ],
          "parcoords": [
           {
            "line": {
             "colorbar": {
              "outlinewidth": 0,
              "ticks": ""
             }
            },
            "type": "parcoords"
           }
          ],
          "pie": [
           {
            "automargin": true,
            "type": "pie"
           }
          ],
          "scatter": [
           {
            "fillpattern": {
             "fillmode": "overlay",
             "size": 10,
             "solidity": 0.2
            },
            "type": "scatter"
           }
          ],
          "scatter3d": [
           {
            "line": {
             "colorbar": {
              "outlinewidth": 0,
              "ticks": ""
             }
            },
            "marker": {
             "colorbar": {
              "outlinewidth": 0,
              "ticks": ""
             }
            },
            "type": "scatter3d"
           }
          ],
          "scattercarpet": [
           {
            "marker": {
             "colorbar": {
              "outlinewidth": 0,
              "ticks": ""
             }
            },
            "type": "scattercarpet"
           }
          ],
          "scattergeo": [
           {
            "marker": {
             "colorbar": {
              "outlinewidth": 0,
              "ticks": ""
             }
            },
            "type": "scattergeo"
           }
          ],
          "scattergl": [
           {
            "marker": {
             "colorbar": {
              "outlinewidth": 0,
              "ticks": ""
             }
            },
            "type": "scattergl"
           }
          ],
          "scattermap": [
           {
            "marker": {
             "colorbar": {
              "outlinewidth": 0,
              "ticks": ""
             }
            },
            "type": "scattermap"
           }
          ],
          "scattermapbox": [
           {
            "marker": {
             "colorbar": {
              "outlinewidth": 0,
              "ticks": ""
             }
            },
            "type": "scattermapbox"
           }
          ],
          "scatterpolar": [
           {
            "marker": {
             "colorbar": {
              "outlinewidth": 0,
              "ticks": ""
             }
            },
            "type": "scatterpolar"
           }
          ],
          "scatterpolargl": [
           {
            "marker": {
             "colorbar": {
              "outlinewidth": 0,
              "ticks": ""
             }
            },
            "type": "scatterpolargl"
           }
          ],
          "scatterternary": [
           {
            "marker": {
             "colorbar": {
              "outlinewidth": 0,
              "ticks": ""
             }
            },
            "type": "scatterternary"
           }
          ],
          "surface": [
           {
            "colorbar": {
             "outlinewidth": 0,
             "ticks": ""
            },
            "colorscale": [
             [
              0,
              "#0d0887"
             ],
             [
              0.1111111111111111,
              "#46039f"
             ],
             [
              0.2222222222222222,
              "#7201a8"
             ],
             [
              0.3333333333333333,
              "#9c179e"
             ],
             [
              0.4444444444444444,
              "#bd3786"
             ],
             [
              0.5555555555555556,
              "#d8576b"
             ],
             [
              0.6666666666666666,
              "#ed7953"
             ],
             [
              0.7777777777777778,
              "#fb9f3a"
             ],
             [
              0.8888888888888888,
              "#fdca26"
             ],
             [
              1,
              "#f0f921"
             ]
            ],
            "type": "surface"
           }
          ],
          "table": [
           {
            "cells": {
             "fill": {
              "color": "#EBF0F8"
             },
             "line": {
              "color": "white"
             }
            },
            "header": {
             "fill": {
              "color": "#C8D4E3"
             },
             "line": {
              "color": "white"
             }
            },
            "type": "table"
           }
          ]
         },
         "layout": {
          "annotationdefaults": {
           "arrowcolor": "#2a3f5f",
           "arrowhead": 0,
           "arrowwidth": 1
          },
          "autotypenumbers": "strict",
          "coloraxis": {
           "colorbar": {
            "outlinewidth": 0,
            "ticks": ""
           }
          },
          "colorscale": {
           "diverging": [
            [
             0,
             "#8e0152"
            ],
            [
             0.1,
             "#c51b7d"
            ],
            [
             0.2,
             "#de77ae"
            ],
            [
             0.3,
             "#f1b6da"
            ],
            [
             0.4,
             "#fde0ef"
            ],
            [
             0.5,
             "#f7f7f7"
            ],
            [
             0.6,
             "#e6f5d0"
            ],
            [
             0.7,
             "#b8e186"
            ],
            [
             0.8,
             "#7fbc41"
            ],
            [
             0.9,
             "#4d9221"
            ],
            [
             1,
             "#276419"
            ]
           ],
           "sequential": [
            [
             0,
             "#0d0887"
            ],
            [
             0.1111111111111111,
             "#46039f"
            ],
            [
             0.2222222222222222,
             "#7201a8"
            ],
            [
             0.3333333333333333,
             "#9c179e"
            ],
            [
             0.4444444444444444,
             "#bd3786"
            ],
            [
             0.5555555555555556,
             "#d8576b"
            ],
            [
             0.6666666666666666,
             "#ed7953"
            ],
            [
             0.7777777777777778,
             "#fb9f3a"
            ],
            [
             0.8888888888888888,
             "#fdca26"
            ],
            [
             1,
             "#f0f921"
            ]
           ],
           "sequentialminus": [
            [
             0,
             "#0d0887"
            ],
            [
             0.1111111111111111,
             "#46039f"
            ],
            [
             0.2222222222222222,
             "#7201a8"
            ],
            [
             0.3333333333333333,
             "#9c179e"
            ],
            [
             0.4444444444444444,
             "#bd3786"
            ],
            [
             0.5555555555555556,
             "#d8576b"
            ],
            [
             0.6666666666666666,
             "#ed7953"
            ],
            [
             0.7777777777777778,
             "#fb9f3a"
            ],
            [
             0.8888888888888888,
             "#fdca26"
            ],
            [
             1,
             "#f0f921"
            ]
           ]
          },
          "colorway": [
           "#636efa",
           "#EF553B",
           "#00cc96",
           "#ab63fa",
           "#FFA15A",
           "#19d3f3",
           "#FF6692",
           "#B6E880",
           "#FF97FF",
           "#FECB52"
          ],
          "font": {
           "color": "#2a3f5f"
          },
          "geo": {
           "bgcolor": "white",
           "lakecolor": "white",
           "landcolor": "#E5ECF6",
           "showlakes": true,
           "showland": true,
           "subunitcolor": "white"
          },
          "hoverlabel": {
           "align": "left"
          },
          "hovermode": "closest",
          "mapbox": {
           "style": "light"
          },
          "paper_bgcolor": "white",
          "plot_bgcolor": "#E5ECF6",
          "polar": {
           "angularaxis": {
            "gridcolor": "white",
            "linecolor": "white",
            "ticks": ""
           },
           "bgcolor": "#E5ECF6",
           "radialaxis": {
            "gridcolor": "white",
            "linecolor": "white",
            "ticks": ""
           }
          },
          "scene": {
           "xaxis": {
            "backgroundcolor": "#E5ECF6",
            "gridcolor": "white",
            "gridwidth": 2,
            "linecolor": "white",
            "showbackground": true,
            "ticks": "",
            "zerolinecolor": "white"
           },
           "yaxis": {
            "backgroundcolor": "#E5ECF6",
            "gridcolor": "white",
            "gridwidth": 2,
            "linecolor": "white",
            "showbackground": true,
            "ticks": "",
            "zerolinecolor": "white"
           },
           "zaxis": {
            "backgroundcolor": "#E5ECF6",
            "gridcolor": "white",
            "gridwidth": 2,
            "linecolor": "white",
            "showbackground": true,
            "ticks": "",
            "zerolinecolor": "white"
           }
          },
          "shapedefaults": {
           "line": {
            "color": "#2a3f5f"
           }
          },
          "ternary": {
           "aaxis": {
            "gridcolor": "white",
            "linecolor": "white",
            "ticks": ""
           },
           "baxis": {
            "gridcolor": "white",
            "linecolor": "white",
            "ticks": ""
           },
           "bgcolor": "#E5ECF6",
           "caxis": {
            "gridcolor": "white",
            "linecolor": "white",
            "ticks": ""
           }
          },
          "title": {
           "x": 0.05
          },
          "xaxis": {
           "automargin": true,
           "gridcolor": "white",
           "linecolor": "white",
           "ticks": "",
           "title": {
            "standoff": 15
           },
           "zerolinecolor": "white",
           "zerolinewidth": 2
          },
          "yaxis": {
           "automargin": true,
           "gridcolor": "white",
           "linecolor": "white",
           "ticks": "",
           "title": {
            "standoff": 15
           },
           "zerolinecolor": "white",
           "zerolinewidth": 2
          }
         }
        },
        "title": {
         "text": "Line Plot"
        },
        "xaxis": {
         "anchor": "y",
         "domain": [
          0,
          1
         ],
         "range": [
          0,
          8
         ],
         "title": {
          "text": "x"
         }
        },
        "yaxis": {
         "anchor": "x",
         "domain": [
          0,
          1
         ],
         "range": [
          0,
          4
         ],
         "title": {
          "text": "y"
         }
        }
       }
      },
      "image/png": "[encoded data removed]"
     },
     "metadata": {},
     "output_type": "display_data"
    }
   ],
   "source": [
    "import numpy as np\n",
    "import plotly.express as px\n",
    "\n",
    "\n",
    "# Change this code into the correct Line Plot\n",
    "\n",
    "xs = np.arange(0, 2.5, 0.01)\n",
    "ys = -0.69 * xs ** 2 + 1.3 * xs + 0.42\n",
    "\n",
    "\n",
    "fig = px.line(x=xs, y=ys, title=\"Line Plot\")\n",
    "fig.update_layout(xaxis_range=[0,8], yaxis_range=[0,4])\n",
    "fig.show()"
   ]
  },
  {
   "cell_type": "code",
   "execution_count": 19,
   "metadata": {},
   "outputs": [
    {
     "data": {
      "application/vnd.plotly.v1+json": {
       "config": {
        "plotlyServerURL": "https://plot.ly"
       },
       "data": [
        {
         "hovertemplate": "x=%{x}<br>y=%{y}<extra></extra>",
         "legendgroup": "",
         "marker": {
          "color": "#636efa",
          "symbol": "circle"
         },
         "mode": "markers",
         "name": "",
         "orientation": "v",
         "showlegend": false,
         "type": "scatter",
         "x": {
          "bdata": "AAECAwQFBgcICQoLDA0ODxAREhMUFRYXGA==",
          "dtype": "i1"
         },
         "xaxis": "x",
         "y": {
          "bdata": "AAAAAAEAAAABAAAAAgAAAAMAAAAFAAAACAAAAA0AAAAVAAAAIgAAADcAAABZAAAAkAAAAOkAAAB5AQAAYgIAANsDAAA9BgAAGAoAAFUQAABtGgAAwioAAC9FAADxbwAAILUAAA==",
          "dtype": "i4"
         },
         "yaxis": "y"
        }
       ],
       "layout": {
        "legend": {
         "tracegroupgap": 0
        },
        "template": {
         "data": {
          "bar": [
           {
            "error_x": {
             "color": "#2a3f5f"
            },
            "error_y": {
             "color": "#2a3f5f"
            },
            "marker": {
             "line": {
              "color": "#E5ECF6",
              "width": 0.5
             },
             "pattern": {
              "fillmode": "overlay",
              "size": 10,
              "solidity": 0.2
             }
            },
            "type": "bar"
           }
          ],
          "barpolar": [
           {
            "marker": {
             "line": {
              "color": "#E5ECF6",
              "width": 0.5
             },
             "pattern": {
              "fillmode": "overlay",
              "size": 10,
              "solidity": 0.2
             }
            },
            "type": "barpolar"
           }
          ],
          "carpet": [
           {
            "aaxis": {
             "endlinecolor": "#2a3f5f",
             "gridcolor": "white",
             "linecolor": "white",
             "minorgridcolor": "white",
             "startlinecolor": "#2a3f5f"
            },
            "baxis": {
             "endlinecolor": "#2a3f5f",
             "gridcolor": "white",
             "linecolor": "white",
             "minorgridcolor": "white",
             "startlinecolor": "#2a3f5f"
            },
            "type": "carpet"
           }
          ],
          "choropleth": [
           {
            "colorbar": {
             "outlinewidth": 0,
             "ticks": ""
            },
            "type": "choropleth"
           }
          ],
          "contour": [
           {
            "colorbar": {
             "outlinewidth": 0,
             "ticks": ""
            },
            "colorscale": [
             [
              0,
              "#0d0887"
             ],
             [
              0.1111111111111111,
              "#46039f"
             ],
             [
              0.2222222222222222,
              "#7201a8"
             ],
             [
              0.3333333333333333,
              "#9c179e"
             ],
             [
              0.4444444444444444,
              "#bd3786"
             ],
             [
              0.5555555555555556,
              "#d8576b"
             ],
             [
              0.6666666666666666,
              "#ed7953"
             ],
             [
              0.7777777777777778,
              "#fb9f3a"
             ],
             [
              0.8888888888888888,
              "#fdca26"
             ],
             [
              1,
              "#f0f921"
             ]
            ],
            "type": "contour"
           }
          ],
          "contourcarpet": [
           {
            "colorbar": {
             "outlinewidth": 0,
             "ticks": ""
            },
            "type": "contourcarpet"
           }
          ],
          "heatmap": [
           {
            "colorbar": {
             "outlinewidth": 0,
             "ticks": ""
            },
            "colorscale": [
             [
              0,
              "#0d0887"
             ],
             [
              0.1111111111111111,
              "#46039f"
             ],
             [
              0.2222222222222222,
              "#7201a8"
             ],
             [
              0.3333333333333333,
              "#9c179e"
             ],
             [
              0.4444444444444444,
              "#bd3786"
             ],
             [
              0.5555555555555556,
              "#d8576b"
             ],
             [
              0.6666666666666666,
              "#ed7953"
             ],
             [
              0.7777777777777778,
              "#fb9f3a"
             ],
             [
              0.8888888888888888,
              "#fdca26"
             ],
             [
              1,
              "#f0f921"
             ]
            ],
            "type": "heatmap"
           }
          ],
          "histogram": [
           {
            "marker": {
             "pattern": {
              "fillmode": "overlay",
              "size": 10,
              "solidity": 0.2
             }
            },
            "type": "histogram"
           }
          ],
          "histogram2d": [
           {
            "colorbar": {
             "outlinewidth": 0,
             "ticks": ""
            },
            "colorscale": [
             [
              0,
              "#0d0887"
             ],
             [
              0.1111111111111111,
              "#46039f"
             ],
             [
              0.2222222222222222,
              "#7201a8"
             ],
             [
              0.3333333333333333,
              "#9c179e"
             ],
             [
              0.4444444444444444,
              "#bd3786"
             ],
             [
              0.5555555555555556,
              "#d8576b"
             ],
             [
              0.6666666666666666,
              "#ed7953"
             ],
             [
              0.7777777777777778,
              "#fb9f3a"
             ],
             [
              0.8888888888888888,
              "#fdca26"
             ],
             [
              1,
              "#f0f921"
             ]
            ],
            "type": "histogram2d"
           }
          ],
          "histogram2dcontour": [
           {
            "colorbar": {
             "outlinewidth": 0,
             "ticks": ""
            },
            "colorscale": [
             [
              0,
              "#0d0887"
             ],
             [
              0.1111111111111111,
              "#46039f"
             ],
             [
              0.2222222222222222,
              "#7201a8"
             ],
             [
              0.3333333333333333,
              "#9c179e"
             ],
             [
              0.4444444444444444,
              "#bd3786"
             ],
             [
              0.5555555555555556,
              "#d8576b"
             ],
             [
              0.6666666666666666,
              "#ed7953"
             ],
             [
              0.7777777777777778,
              "#fb9f3a"
             ],
             [
              0.8888888888888888,
              "#fdca26"
             ],
             [
              1,
              "#f0f921"
             ]
            ],
            "type": "histogram2dcontour"
           }
          ],
          "mesh3d": [
           {
            "colorbar": {
             "outlinewidth": 0,
             "ticks": ""
            },
            "type": "mesh3d"
           }
          ],
          "parcoords": [
           {
            "line": {
             "colorbar": {
              "outlinewidth": 0,
              "ticks": ""
             }
            },
            "type": "parcoords"
           }
          ],
          "pie": [
           {
            "automargin": true,
            "type": "pie"
           }
          ],
          "scatter": [
           {
            "fillpattern": {
             "fillmode": "overlay",
             "size": 10,
             "solidity": 0.2
            },
            "type": "scatter"
           }
          ],
          "scatter3d": [
           {
            "line": {
             "colorbar": {
              "outlinewidth": 0,
              "ticks": ""
             }
            },
            "marker": {
             "colorbar": {
              "outlinewidth": 0,
              "ticks": ""
             }
            },
            "type": "scatter3d"
           }
          ],
          "scattercarpet": [
           {
            "marker": {
             "colorbar": {
              "outlinewidth": 0,
              "ticks": ""
             }
            },
            "type": "scattercarpet"
           }
          ],
          "scattergeo": [
           {
            "marker": {
             "colorbar": {
              "outlinewidth": 0,
              "ticks": ""
             }
            },
            "type": "scattergeo"
           }
          ],
          "scattergl": [
           {
            "marker": {
             "colorbar": {
              "outlinewidth": 0,
              "ticks": ""
             }
            },
            "type": "scattergl"
           }
          ],
          "scattermap": [
           {
            "marker": {
             "colorbar": {
              "outlinewidth": 0,
              "ticks": ""
             }
            },
            "type": "scattermap"
           }
          ],
          "scattermapbox": [
           {
            "marker": {
             "colorbar": {
              "outlinewidth": 0,
              "ticks": ""
             }
            },
            "type": "scattermapbox"
           }
          ],
          "scatterpolar": [
           {
            "marker": {
             "colorbar": {
              "outlinewidth": 0,
              "ticks": ""
             }
            },
            "type": "scatterpolar"
           }
          ],
          "scatterpolargl": [
           {
            "marker": {
             "colorbar": {
              "outlinewidth": 0,
              "ticks": ""
             }
            },
            "type": "scatterpolargl"
           }
          ],
          "scatterternary": [
           {
            "marker": {
             "colorbar": {
              "outlinewidth": 0,
              "ticks": ""
             }
            },
            "type": "scatterternary"
           }
          ],
          "surface": [
           {
            "colorbar": {
             "outlinewidth": 0,
             "ticks": ""
            },
            "colorscale": [
             [
              0,
              "#0d0887"
             ],
             [
              0.1111111111111111,
              "#46039f"
             ],
             [
              0.2222222222222222,
              "#7201a8"
             ],
             [
              0.3333333333333333,
              "#9c179e"
             ],
             [
              0.4444444444444444,
              "#bd3786"
             ],
             [
              0.5555555555555556,
              "#d8576b"
             ],
             [
              0.6666666666666666,
              "#ed7953"
             ],
             [
              0.7777777777777778,
              "#fb9f3a"
             ],
             [
              0.8888888888888888,
              "#fdca26"
             ],
             [
              1,
              "#f0f921"
             ]
            ],
            "type": "surface"
           }
          ],
          "table": [
           {
            "cells": {
             "fill": {
              "color": "#EBF0F8"
             },
             "line": {
              "color": "white"
             }
            },
            "header": {
             "fill": {
              "color": "#C8D4E3"
             },
             "line": {
              "color": "white"
             }
            },
            "type": "table"
           }
          ]
         },
         "layout": {
          "annotationdefaults": {
           "arrowcolor": "#2a3f5f",
           "arrowhead": 0,
           "arrowwidth": 1
          },
          "autotypenumbers": "strict",
          "coloraxis": {
           "colorbar": {
            "outlinewidth": 0,
            "ticks": ""
           }
          },
          "colorscale": {
           "diverging": [
            [
             0,
             "#8e0152"
            ],
            [
             0.1,
             "#c51b7d"
            ],
            [
             0.2,
             "#de77ae"
            ],
            [
             0.3,
             "#f1b6da"
            ],
            [
             0.4,
             "#fde0ef"
            ],
            [
             0.5,
             "#f7f7f7"
            ],
            [
             0.6,
             "#e6f5d0"
            ],
            [
             0.7,
             "#b8e186"
            ],
            [
             0.8,
             "#7fbc41"
            ],
            [
             0.9,
             "#4d9221"
            ],
            [
             1,
             "#276419"
            ]
           ],
           "sequential": [
            [
             0,
             "#0d0887"
            ],
            [
             0.1111111111111111,
             "#46039f"
            ],
            [
             0.2222222222222222,
             "#7201a8"
            ],
            [
             0.3333333333333333,
             "#9c179e"
            ],
            [
             0.4444444444444444,
             "#bd3786"
            ],
            [
             0.5555555555555556,
             "#d8576b"
            ],
            [
             0.6666666666666666,
             "#ed7953"
            ],
            [
             0.7777777777777778,
             "#fb9f3a"
            ],
            [
             0.8888888888888888,
             "#fdca26"
            ],
            [
             1,
             "#f0f921"
            ]
           ],
           "sequentialminus": [
            [
             0,
             "#0d0887"
            ],
            [
             0.1111111111111111,
             "#46039f"
            ],
            [
             0.2222222222222222,
             "#7201a8"
            ],
            [
             0.3333333333333333,
             "#9c179e"
            ],
            [
             0.4444444444444444,
             "#bd3786"
            ],
            [
             0.5555555555555556,
             "#d8576b"
            ],
            [
             0.6666666666666666,
             "#ed7953"
            ],
            [
             0.7777777777777778,
             "#fb9f3a"
            ],
            [
             0.8888888888888888,
             "#fdca26"
            ],
            [
             1,
             "#f0f921"
            ]
           ]
          },
          "colorway": [
           "#636efa",
           "#EF553B",
           "#00cc96",
           "#ab63fa",
           "#FFA15A",
           "#19d3f3",
           "#FF6692",
           "#B6E880",
           "#FF97FF",
           "#FECB52"
          ],
          "font": {
           "color": "#2a3f5f"
          },
          "geo": {
           "bgcolor": "white",
           "lakecolor": "white",
           "landcolor": "#E5ECF6",
           "showlakes": true,
           "showland": true,
           "subunitcolor": "white"
          },
          "hoverlabel": {
           "align": "left"
          },
          "hovermode": "closest",
          "mapbox": {
           "style": "light"
          },
          "paper_bgcolor": "white",
          "plot_bgcolor": "#E5ECF6",
          "polar": {
           "angularaxis": {
            "gridcolor": "white",
            "linecolor": "white",
            "ticks": ""
           },
           "bgcolor": "#E5ECF6",
           "radialaxis": {
            "gridcolor": "white",
            "linecolor": "white",
            "ticks": ""
           }
          },
          "scene": {
           "xaxis": {
            "backgroundcolor": "#E5ECF6",
            "gridcolor": "white",
            "gridwidth": 2,
            "linecolor": "white",
            "showbackground": true,
            "ticks": "",
            "zerolinecolor": "white"
           },
           "yaxis": {
            "backgroundcolor": "#E5ECF6",
            "gridcolor": "white",
            "gridwidth": 2,
            "linecolor": "white",
            "showbackground": true,
            "ticks": "",
            "zerolinecolor": "white"
           },
           "zaxis": {
            "backgroundcolor": "#E5ECF6",
            "gridcolor": "white",
            "gridwidth": 2,
            "linecolor": "white",
            "showbackground": true,
            "ticks": "",
            "zerolinecolor": "white"
           }
          },
          "shapedefaults": {
           "line": {
            "color": "#2a3f5f"
           }
          },
          "ternary": {
           "aaxis": {
            "gridcolor": "white",
            "linecolor": "white",
            "ticks": ""
           },
           "baxis": {
            "gridcolor": "white",
            "linecolor": "white",
            "ticks": ""
           },
           "bgcolor": "#E5ECF6",
           "caxis": {
            "gridcolor": "white",
            "linecolor": "white",
            "ticks": ""
           }
          },
          "title": {
           "x": 0.05
          },
          "xaxis": {
           "automargin": true,
           "gridcolor": "white",
           "linecolor": "white",
           "ticks": "",
           "title": {
            "standoff": 15
           },
           "zerolinecolor": "white",
           "zerolinewidth": 2
          },
          "yaxis": {
           "automargin": true,
           "gridcolor": "white",
           "linecolor": "white",
           "ticks": "",
           "title": {
            "standoff": 15
           },
           "zerolinecolor": "white",
           "zerolinewidth": 2
          }
         }
        },
        "title": {
         "text": "Fibbonachi Scatter Plot"
        },
        "xaxis": {
         "anchor": "y",
         "domain": [
          0,
          1
         ],
         "range": [
          0,
          6
         ],
         "title": {
          "text": "x"
         }
        },
        "yaxis": {
         "anchor": "x",
         "domain": [
          0,
          1
         ],
         "range": [
          0,
          10
         ],
         "title": {
          "text": "y"
         }
        }
       }
      },
      "image/png": "[encoded data removed]"
     },
     "metadata": {},
     "output_type": "display_data"
    }
   ],
   "source": [
    "# Change this code into the correct Scatter Plot (please take care of the axis)\n",
    "\n",
    "ys = [0,1]\n",
    "\n",
    "for i in range (23):\n",
    "    ys.append(ys[-1] + ys[-2])\n",
    "    xs = list(range(len(ys)))\n",
    "  \n",
    "\n",
    "fig = px.scatter(x=xs, y=ys, title=\"Fibbonachi Scatter Plot\")\n",
    "fig.update_layout(xaxis_range=[0,6], yaxis_range=[0,10])\n",
    "fig.show()"
   ]
  },
  {
   "cell_type": "markdown",
   "metadata": {},
   "source": [
    "# Task 2 -- Numpy and curve fitting\n",
    "\n",
    "Fill in the function get_2polynomal_from_3_points(). You are required to use the  \n",
    "function: np.linalg.solve() for the actual computation, i.e. the task is mainly   \n",
    "about shaping the input so it fits the np.linalg.solve() function. Note: dont use polyfit().\n",
    "\n",
    "The function should return a 1d numpy array, with shape = (3,) in the format a, b,c.  \n",
    "Such that ax^2 + bx + c = y, goes through the points p0, p1, p2\n",
    "\n",
    "HINT: How should a matrix equation be formed, so solving it gives us the coefficients for a polynomial?\n",
    "\n",
    "Limitations:\n",
    "* There should be NO loops or ifs! (for/while/if). \n",
    "* Numpy functions that might come handy: reshape, hstack, flatten, ones\n",
    "\n"
   ]
  },
  {
   "cell_type": "code",
   "execution_count": 2,
   "metadata": {},
   "outputs": [
    {
     "name": "stdout",
     "output_type": "stream",
     "text": [
      "Polynomial: -0.690280x^2 + 1.30x + 0.42\n",
      "Correct polynomial found.\n"
     ]
    }
   ],
   "source": [
    "import numpy as np\n",
    "\n",
    "def get_2polynomal_from_3_points(p0: np.array, p1: np.array, p2: np.array) -> np.array:\n",
    "    # -- CODE --\n",
    "\n",
    "    points = (point0, point1, point2)\n",
    "    points = np.vstack(points)\n",
    "    \n",
    "    x = points[:,0]\n",
    "    y = points[:,1]\n",
    "\n",
    "    A = np.column_stack([x**2, x, np.ones_like(x)])\n",
    "\n",
    "    coeffs = np.linalg.solve(A, y)\n",
    "    return coeffs\n",
    "\n",
    "    \n",
    "point0 = np.array([0.147, 0.596])\n",
    "point1 = np.array([0.7, 0.992])\n",
    "point2 = np.array([2.06, 0.17])\n",
    "\n",
    "\n",
    "polynomial_coefficients = get_2polynomal_from_3_points(point0, point1, point2)\n",
    "\n",
    "\n",
    "assert(polynomial_coefficients.shape[0] == 3 and polynomial_coefficients.ndim == 1)\n",
    "\n",
    "print(\"Polynomial: {:2f}x^2 + {:.2f}x + {:.2f}\".format(*polynomial_coefficients))\n",
    "\n",
    "\n",
    "if not np.isclose(polynomial_coefficients[0], -0.69, atol=0.01):\n",
    "    print(\"x^2 coeff is wrong (a), should be close to -0.69\")\n",
    "    \n",
    "if not np.isclose(polynomial_coefficients[1], 1.3, atol=0.01):\n",
    "    print(\"x coeff is wrong (b), should be close to 1.3\")\n",
    "    \n",
    "if not np.isclose(polynomial_coefficients[2], 0.42, atol=0.01):\n",
    "    print(\"Constant factor (c) is wrong, should be close to 0.42\")\n",
    "    \n",
    "if np.isclose(polynomial_coefficients, [-0.69, 1.3, 0.42], atol=0.01).all():\n",
    "    print(\"Correct polynomial found.\")"
   ]
  },
  {
   "cell_type": "markdown",
   "metadata": {},
   "source": [
    "# Task 3 -- Simple random search\n",
    "\n",
    "Find the triplet $a,b,c \\in \\{x \\;|\\; x \\in \\mathbb{Z} \\text{ and } 450 > x > 0 \\}$ \n",
    "\n",
    "Using a random search in the parameter space. Such that the following relations is satisfied: \n",
    "\n",
    "### a\n",
    "$a = \\begin{cases} c+11, & \\text{if } b\\text{ is even} \\\\ 2c-129, & \\text{if } b\\text{ is odd} \\end{cases}$\n",
    "\n",
    "### b\n",
    "$b = (a \\times c) \\mod 2377$\n",
    "\n",
    "### c\n",
    "$c = \\left( \\sum\\limits_{k=0}^{a-1} b - 7k \\right) + 142$\n",
    "\n",
    "**Also how many guesses were needed?**\n",
    "\n",
    "Note that in math notation $\\sum\\limits_{k=1}^{5}k = 1+2+3+4+5$ \n",
    "\n",
    "Hint (to check if you got the right answer): The product $abc$ should be 255450 $\\pm$ 20 \n",
    "    \n",
    "Can you find any optimizations besides multi-thread/multi-process?"
   ]
  },
  {
   "cell_type": "markdown",
   "metadata": {},
   "source": [
    "# Task 4 -- Revisit the Fortuna Algorithm\n",
    "\n",
    "Below is a implementation of Fortuna that uses fits linear function $f_{\\theta} = a x + b$ where $\\theta = \\{a,b\\}$ to a function $g(x)$.  \n",
    "However, as is evidently from the graph, $g(x)$ is not a linear function.  \n",
    "\n",
    "1) Change the code to instead use $f_{\\theta}(x) = \\sum\\limits_{k=1}^{3} \\Psi_k \\sin(\\gamma_k (x + \\omega_k)) $.  \n",
    "  Such that $|\\theta| = 9$, where each parameter $c$ in $\\theta$ is in $[-4. 4]$.  \n",
    "That is, $f_{\\theta}(x)$ is a sum of three sin terms. **Do not change the range of the sample\\_theta function.**\n",
    "\n",
    "3) However, it seems Fortuna (on average) struggles to find the optimal parameters $\\theta$.  \n",
    "Therefore you will have to innovate and change the Fortuna algorithm so that it faster finds \"better solutions\".\n",
    "What changes did you make and **why** did you make them, and how did you measure how efficient these changes were?  \n",
    "A excellent solution here will have an expected best loss of less than 5 using 100000 guesses. (take the average over 100 runs).\n",
    "**But ANY improvment is sufficient to pass!**  \n",
    "\n",
    "4) Using your newly made modified Fortuna Algorithm optimize the function: $h(x) = \\mu - (\\zeta sin(\\kappa x) )  (\\tau (x + \\lambda))$ .  \n",
    "The y values for this function can be found in the numpy array ys_h_1 (in the code below).  \n",
    "Also test the values for ys_h_2. (the x is the same for all functions).\n",
    "\n",
    "Does your new and improved Fortuna outperform the regular fortuna on this function as well? Why?   \n",
    "**Remember to change your model to match $h(x)$**\n",
    "\n",
    "\n",
    "4) [**Optional**] Develop a multiprocces implemention of the Fortuna algorithm using python's multiprocessing library (https://docs.python.org/3/library/multiprocessing.html).  \n",
    "How are the speed ups? Are Fortuna really suited to parallel execution?\n",
    "\n",
    "\n"
   ]
  },
  {
   "cell_type": "code",
   "execution_count": 29,
   "metadata": {},
   "outputs": [
    {
     "name": "stderr",
     "output_type": "stream",
     "text": [
      "100%|█████████████████████████████████████████████████████████████████████████████████████| 100000/100000 [00:02<00:00, 42577.39it/s]"
     ]
    },
    {
     "name": "stdout",
     "output_type": "stream",
     "text": [
      "best loss: 37.62006355921043\n",
      "theta: [-1.0449792  -3.68944798  2.452205   -2.20718994 -0.96633761  2.10262101\n",
      " -1.12618573 -0.4244562   2.83281213]\n"
     ]
    },
    {
     "name": "stderr",
     "output_type": "stream",
     "text": [
      "\n"
     ]
    },
    {
     "data": {
      "application/vnd.plotly.v1+json": {
       "config": {
        "plotlyServerURL": "https://plot.ly"
       },
       "data": [
        {
         "hovertemplate": "x=%{x}<br>y=%{y}<extra></extra>",
         "legendgroup": "",
         "line": {
          "color": "#636efa",
          "dash": "solid"
         },
         "marker": {
          "symbol": "circle"
         },
         "mode": "lines",
         "name": "",
         "orientation": "v",
         "showlegend": false,
         "type": "scatter",
         "x": {
          "bdata": "AAAAAAAA8D+amZmZmZnxPzMzMzMzM/M/zczMzMzM9D9mZmZmZmb2PwAAAAAAAPg/mpmZmZmZ+T8zMzMzMzP7P83MzMzMzPw/ZmZmZmZm/j8AAAAAAAAAQM3MzMzMzABAmpmZmZmZAUBmZmZmZmYCQDMzMzMzMwNAAAAAAAAABEDNzMzMzMwEQJqZmZmZmQVAZmZmZmZmBkAzMzMzMzMHQAAAAAAAAAhAzczMzMzMCECamZmZmZkJQGZmZmZmZgpAMzMzMzMzC0AAAAAAAAAMQM3MzMzMzAxAmpmZmZmZDUBmZmZmZmYOQDMzMzMzMw9AAAAAAAAAEEBmZmZmZmYQQM3MzMzMzBBAMzMzMzMzEUCamZmZmZkRQAAAAAAAABJAZmZmZmZmEkDNzMzMzMwSQDMzMzMzMxNAmpmZmZmZE0AAAAAAAAAUQGZmZmZmZhRAzczMzMzMFEAzMzMzMzMVQJqZmZmZmRVAAAAAAAAAFkBmZmZmZmYWQM3MzMzMzBZAMzMzMzMzF0CamZmZmZkXQAAAAAAAABhAZmZmZmZmGEDNzMzMzMwYQDMzMzMzMxlAmpmZmZmZGUAAAAAAAAAaQGZmZmZmZhpAzczMzMzMGkAzMzMzMzMbQJqZmZmZmRtAAAAAAAAAHEBmZmZmZmYcQM3MzMzMzBxAMzMzMzMzHUCamZmZmZkdQA==",
          "dtype": "f8"
         },
         "xaxis": "x",
         "y": {
          "bdata": "H4XrUbgeEEDD9Shcj8IQQArXo3A9ChFAAAAAAAAAEUCuR+F6FK4QQB+F61G4HhBAzczMzMzMDkAK16NwPQoNQDMzMzMzMwtASOF6FK5HCUBxPQrXo3AHQMP1KFyPwgVAPQrXo3A9BEAfhetRuB4DQD0K16NwPQJArkfhehSuAUBxPQrXo3ABQIXrUbgehQFAw/UoXI/CAUApXI/C9SgCQKRwPQrXowJAH4XrUbgeA0CF61G4HoUDQJqZmZmZmQNAcT0K16NwA0DhehSuR+ECQMP1KFyPwgFAKVyPwvUoAEAAAAAAAAD8P4/C9Shcj/Y/AAAAAAAA8D+kcD0K16PgP3sUrkfheoS/MzMzMzMz47+F61G4HoXzv8P1KFyPwv2/AAAAAAAABMAK16NwPQoJwMP1KFyPwg3AFK5H4XoUEcAAAAAAAAATwJqZmZmZmRTAzczMzMzMFcCamZmZmZkWwPYoXI/C9RbAzczMzMzMFsAzMzMzMzMWwClcj8L1KBXArkfhehSuE8DD9Shcj8IRwB+F61G4Hg/AFK5H4XoUCsCkcD0K16MEwMP1KFyPwv2/7FG4HoXr8b/2KFyPwvXYv3sUrkfhetQ/XI/C9Shc7z+amZmZmZn5Px+F61G4HgFA4XoUrkfhBEDsUbgehesHQD0K16NwPQpAw/UoXI/CC0CPwvUoXI8MQA==",
          "dtype": "f8"
         },
         "yaxis": "y"
        },
        {
         "mode": "lines",
         "name": "y_hat",
         "type": "scatter",
         "x": {
          "bdata": "AAAAAAAA8D+amZmZmZnxPzMzMzMzM/M/zczMzMzM9D9mZmZmZmb2PwAAAAAAAPg/mpmZmZmZ+T8zMzMzMzP7P83MzMzMzPw/ZmZmZmZm/j8AAAAAAAAAQM3MzMzMzABAmpmZmZmZAUBmZmZmZmYCQDMzMzMzMwNAAAAAAAAABEDNzMzMzMwEQJqZmZmZmQVAZmZmZmZmBkAzMzMzMzMHQAAAAAAAAAhAzczMzMzMCECamZmZmZkJQGZmZmZmZgpAMzMzMzMzC0AAAAAAAAAMQM3MzMzMzAxAmpmZmZmZDUBmZmZmZmYOQDMzMzMzMw9AAAAAAAAAEEBmZmZmZmYQQM3MzMzMzBBAMzMzMzMzEUCamZmZmZkRQAAAAAAAABJAZmZmZmZmEkDNzMzMzMwSQDMzMzMzMxNAmpmZmZmZE0AAAAAAAAAUQGZmZmZmZhRAzczMzMzMFEAzMzMzMzMVQJqZmZmZmRVAAAAAAAAAFkBmZmZmZmYWQM3MzMzMzBZAMzMzMzMzF0CamZmZmZkXQAAAAAAAABhAZmZmZmZmGEDNzMzMzMwYQDMzMzMzMxlAmpmZmZmZGUAAAAAAAAAaQGZmZmZmZhpAzczMzMzMGkAzMzMzMzMbQJqZmZmZmRtAAAAAAAAAHEBmZmZmZmYcQM3MzMzMzBxAMzMzMzMzHUCamZmZmZkdQA==",
          "dtype": "f8"
         },
         "y": {
          "bdata": "i1cL7Ng+EEC2MtJerbIRQIwl6gTjrhJAbaajyv4wE0B/2rqnGjsTQDngL2bF0xJA0SD/RLEFEkCg1EeqNN8QQKByUlpE4w5AImW/PP6gC0D+dUaSQiEIQHnvl7F7jgRAgYxjKOgRAUBA2xete6P7P3ZBPITg3vU/6B50slwM8T8oSsUopqbqPwhWbdzTlOU/KI+Wyh7t4j9eCTpJopXiPwxUjJ4VUuQ/pJJuUcrG5z/D/ZGRLH3sPzA/zznK9PA/ugCwahO58z9FFFPOOzv2P0SPPqXKK/g/uJesAxBA+T8SfcNVBjb5P7vXunzb1/c/+Yx5mfb+9D+0yoURVZbwP6jZczBBOOU/0BI1yEUTyT+MqK9jL8TWv2oG6PeuS++/OJRfFO5y+r8yEswPseACwFEaC6DslwjAXBoNZUUrDsCyZZsI57IRwOCs/H3qCRTArgXosJICFsCTk0arlYcXwEbXkr9whxjArssl6Tj1GMD8/5LrOskYwEKwUH5jARjAJVEuQmqhFsAOJZ/xvLIUwKMB1RQrRBLA9aWevKrSDsCFzDglzXMIwDuCvbw8oQHAla8BiuIo9b/Umabg1kPcv9hbwNWPQ9o/l3ctydBO8z+9b/FMF8b+P66YEsGZUQRALeJSiaBSCEAzq5xJSVALQDjS8ZsrQA1AQFkjjJ0jDkCceOrtfAcOQA==",
          "dtype": "f8"
         }
        }
       ],
       "layout": {
        "legend": {
         "tracegroupgap": 0
        },
        "template": {
         "data": {
          "bar": [
           {
            "error_x": {
             "color": "#2a3f5f"
            },
            "error_y": {
             "color": "#2a3f5f"
            },
            "marker": {
             "line": {
              "color": "#E5ECF6",
              "width": 0.5
             },
             "pattern": {
              "fillmode": "overlay",
              "size": 10,
              "solidity": 0.2
             }
            },
            "type": "bar"
           }
          ],
          "barpolar": [
           {
            "marker": {
             "line": {
              "color": "#E5ECF6",
              "width": 0.5
             },
             "pattern": {
              "fillmode": "overlay",
              "size": 10,
              "solidity": 0.2
             }
            },
            "type": "barpolar"
           }
          ],
          "carpet": [
           {
            "aaxis": {
             "endlinecolor": "#2a3f5f",
             "gridcolor": "white",
             "linecolor": "white",
             "minorgridcolor": "white",
             "startlinecolor": "#2a3f5f"
            },
            "baxis": {
             "endlinecolor": "#2a3f5f",
             "gridcolor": "white",
             "linecolor": "white",
             "minorgridcolor": "white",
             "startlinecolor": "#2a3f5f"
            },
            "type": "carpet"
           }
          ],
          "choropleth": [
           {
            "colorbar": {
             "outlinewidth": 0,
             "ticks": ""
            },
            "type": "choropleth"
           }
          ],
          "contour": [
           {
            "colorbar": {
             "outlinewidth": 0,
             "ticks": ""
            },
            "colorscale": [
             [
              0,
              "#0d0887"
             ],
             [
              0.1111111111111111,
              "#46039f"
             ],
             [
              0.2222222222222222,
              "#7201a8"
             ],
             [
              0.3333333333333333,
              "#9c179e"
             ],
             [
              0.4444444444444444,
              "#bd3786"
             ],
             [
              0.5555555555555556,
              "#d8576b"
             ],
             [
              0.6666666666666666,
              "#ed7953"
             ],
             [
              0.7777777777777778,
              "#fb9f3a"
             ],
             [
              0.8888888888888888,
              "#fdca26"
             ],
             [
              1,
              "#f0f921"
             ]
            ],
            "type": "contour"
           }
          ],
          "contourcarpet": [
           {
            "colorbar": {
             "outlinewidth": 0,
             "ticks": ""
            },
            "type": "contourcarpet"
           }
          ],
          "heatmap": [
           {
            "colorbar": {
             "outlinewidth": 0,
             "ticks": ""
            },
            "colorscale": [
             [
              0,
              "#0d0887"
             ],
             [
              0.1111111111111111,
              "#46039f"
             ],
             [
              0.2222222222222222,
              "#7201a8"
             ],
             [
              0.3333333333333333,
              "#9c179e"
             ],
             [
              0.4444444444444444,
              "#bd3786"
             ],
             [
              0.5555555555555556,
              "#d8576b"
             ],
             [
              0.6666666666666666,
              "#ed7953"
             ],
             [
              0.7777777777777778,
              "#fb9f3a"
             ],
             [
              0.8888888888888888,
              "#fdca26"
             ],
             [
              1,
              "#f0f921"
             ]
            ],
            "type": "heatmap"
           }
          ],
          "histogram": [
           {
            "marker": {
             "pattern": {
              "fillmode": "overlay",
              "size": 10,
              "solidity": 0.2
             }
            },
            "type": "histogram"
           }
          ],
          "histogram2d": [
           {
            "colorbar": {
             "outlinewidth": 0,
             "ticks": ""
            },
            "colorscale": [
             [
              0,
              "#0d0887"
             ],
             [
              0.1111111111111111,
              "#46039f"
             ],
             [
              0.2222222222222222,
              "#7201a8"
             ],
             [
              0.3333333333333333,
              "#9c179e"
             ],
             [
              0.4444444444444444,
              "#bd3786"
             ],
             [
              0.5555555555555556,
              "#d8576b"
             ],
             [
              0.6666666666666666,
              "#ed7953"
             ],
             [
              0.7777777777777778,
              "#fb9f3a"
             ],
             [
              0.8888888888888888,
              "#fdca26"
             ],
             [
              1,
              "#f0f921"
             ]
            ],
            "type": "histogram2d"
           }
          ],
          "histogram2dcontour": [
           {
            "colorbar": {
             "outlinewidth": 0,
             "ticks": ""
            },
            "colorscale": [
             [
              0,
              "#0d0887"
             ],
             [
              0.1111111111111111,
              "#46039f"
             ],
             [
              0.2222222222222222,
              "#7201a8"
             ],
             [
              0.3333333333333333,
              "#9c179e"
             ],
             [
              0.4444444444444444,
              "#bd3786"
             ],
             [
              0.5555555555555556,
              "#d8576b"
             ],
             [
              0.6666666666666666,
              "#ed7953"
             ],
             [
              0.7777777777777778,
              "#fb9f3a"
             ],
             [
              0.8888888888888888,
              "#fdca26"
             ],
             [
              1,
              "#f0f921"
             ]
            ],
            "type": "histogram2dcontour"
           }
          ],
          "mesh3d": [
           {
            "colorbar": {
             "outlinewidth": 0,
             "ticks": ""
            },
            "type": "mesh3d"
           }
          ],
          "parcoords": [
           {
            "line": {
             "colorbar": {
              "outlinewidth": 0,
              "ticks": ""
             }
            },
            "type": "parcoords"
           }
          ],
          "pie": [
           {
            "automargin": true,
            "type": "pie"
           }
          ],
          "scatter": [
           {
            "fillpattern": {
             "fillmode": "overlay",
             "size": 10,
             "solidity": 0.2
            },
            "type": "scatter"
           }
          ],
          "scatter3d": [
           {
            "line": {
             "colorbar": {
              "outlinewidth": 0,
              "ticks": ""
             }
            },
            "marker": {
             "colorbar": {
              "outlinewidth": 0,
              "ticks": ""
             }
            },
            "type": "scatter3d"
           }
          ],
          "scattercarpet": [
           {
            "marker": {
             "colorbar": {
              "outlinewidth": 0,
              "ticks": ""
             }
            },
            "type": "scattercarpet"
           }
          ],
          "scattergeo": [
           {
            "marker": {
             "colorbar": {
              "outlinewidth": 0,
              "ticks": ""
             }
            },
            "type": "scattergeo"
           }
          ],
          "scattergl": [
           {
            "marker": {
             "colorbar": {
              "outlinewidth": 0,
              "ticks": ""
             }
            },
            "type": "scattergl"
           }
          ],
          "scattermap": [
           {
            "marker": {
             "colorbar": {
              "outlinewidth": 0,
              "ticks": ""
             }
            },
            "type": "scattermap"
           }
          ],
          "scattermapbox": [
           {
            "marker": {
             "colorbar": {
              "outlinewidth": 0,
              "ticks": ""
             }
            },
            "type": "scattermapbox"
           }
          ],
          "scatterpolar": [
           {
            "marker": {
             "colorbar": {
              "outlinewidth": 0,
              "ticks": ""
             }
            },
            "type": "scatterpolar"
           }
          ],
          "scatterpolargl": [
           {
            "marker": {
             "colorbar": {
              "outlinewidth": 0,
              "ticks": ""
             }
            },
            "type": "scatterpolargl"
           }
          ],
          "scatterternary": [
           {
            "marker": {
             "colorbar": {
              "outlinewidth": 0,
              "ticks": ""
             }
            },
            "type": "scatterternary"
           }
          ],
          "surface": [
           {
            "colorbar": {
             "outlinewidth": 0,
             "ticks": ""
            },
            "colorscale": [
             [
              0,
              "#0d0887"
             ],
             [
              0.1111111111111111,
              "#46039f"
             ],
             [
              0.2222222222222222,
              "#7201a8"
             ],
             [
              0.3333333333333333,
              "#9c179e"
             ],
             [
              0.4444444444444444,
              "#bd3786"
             ],
             [
              0.5555555555555556,
              "#d8576b"
             ],
             [
              0.6666666666666666,
              "#ed7953"
             ],
             [
              0.7777777777777778,
              "#fb9f3a"
             ],
             [
              0.8888888888888888,
              "#fdca26"
             ],
             [
              1,
              "#f0f921"
             ]
            ],
            "type": "surface"
           }
          ],
          "table": [
           {
            "cells": {
             "fill": {
              "color": "#EBF0F8"
             },
             "line": {
              "color": "white"
             }
            },
            "header": {
             "fill": {
              "color": "#C8D4E3"
             },
             "line": {
              "color": "white"
             }
            },
            "type": "table"
           }
          ]
         },
         "layout": {
          "annotationdefaults": {
           "arrowcolor": "#2a3f5f",
           "arrowhead": 0,
           "arrowwidth": 1
          },
          "autotypenumbers": "strict",
          "coloraxis": {
           "colorbar": {
            "outlinewidth": 0,
            "ticks": ""
           }
          },
          "colorscale": {
           "diverging": [
            [
             0,
             "#8e0152"
            ],
            [
             0.1,
             "#c51b7d"
            ],
            [
             0.2,
             "#de77ae"
            ],
            [
             0.3,
             "#f1b6da"
            ],
            [
             0.4,
             "#fde0ef"
            ],
            [
             0.5,
             "#f7f7f7"
            ],
            [
             0.6,
             "#e6f5d0"
            ],
            [
             0.7,
             "#b8e186"
            ],
            [
             0.8,
             "#7fbc41"
            ],
            [
             0.9,
             "#4d9221"
            ],
            [
             1,
             "#276419"
            ]
           ],
           "sequential": [
            [
             0,
             "#0d0887"
            ],
            [
             0.1111111111111111,
             "#46039f"
            ],
            [
             0.2222222222222222,
             "#7201a8"
            ],
            [
             0.3333333333333333,
             "#9c179e"
            ],
            [
             0.4444444444444444,
             "#bd3786"
            ],
            [
             0.5555555555555556,
             "#d8576b"
            ],
            [
             0.6666666666666666,
             "#ed7953"
            ],
            [
             0.7777777777777778,
             "#fb9f3a"
            ],
            [
             0.8888888888888888,
             "#fdca26"
            ],
            [
             1,
             "#f0f921"
            ]
           ],
           "sequentialminus": [
            [
             0,
             "#0d0887"
            ],
            [
             0.1111111111111111,
             "#46039f"
            ],
            [
             0.2222222222222222,
             "#7201a8"
            ],
            [
             0.3333333333333333,
             "#9c179e"
            ],
            [
             0.4444444444444444,
             "#bd3786"
            ],
            [
             0.5555555555555556,
             "#d8576b"
            ],
            [
             0.6666666666666666,
             "#ed7953"
            ],
            [
             0.7777777777777778,
             "#fb9f3a"
            ],
            [
             0.8888888888888888,
             "#fdca26"
            ],
            [
             1,
             "#f0f921"
            ]
           ]
          },
          "colorway": [
           "#636efa",
           "#EF553B",
           "#00cc96",
           "#ab63fa",
           "#FFA15A",
           "#19d3f3",
           "#FF6692",
           "#B6E880",
           "#FF97FF",
           "#FECB52"
          ],
          "font": {
           "color": "#2a3f5f"
          },
          "geo": {
           "bgcolor": "white",
           "lakecolor": "white",
           "landcolor": "#E5ECF6",
           "showlakes": true,
           "showland": true,
           "subunitcolor": "white"
          },
          "hoverlabel": {
           "align": "left"
          },
          "hovermode": "closest",
          "mapbox": {
           "style": "light"
          },
          "paper_bgcolor": "white",
          "plot_bgcolor": "#E5ECF6",
          "polar": {
           "angularaxis": {
            "gridcolor": "white",
            "linecolor": "white",
            "ticks": ""
           },
           "bgcolor": "#E5ECF6",
           "radialaxis": {
            "gridcolor": "white",
            "linecolor": "white",
            "ticks": ""
           }
          },
          "scene": {
           "xaxis": {
            "backgroundcolor": "#E5ECF6",
            "gridcolor": "white",
            "gridwidth": 2,
            "linecolor": "white",
            "showbackground": true,
            "ticks": "",
            "zerolinecolor": "white"
           },
           "yaxis": {
            "backgroundcolor": "#E5ECF6",
            "gridcolor": "white",
            "gridwidth": 2,
            "linecolor": "white",
            "showbackground": true,
            "ticks": "",
            "zerolinecolor": "white"
           },
           "zaxis": {
            "backgroundcolor": "#E5ECF6",
            "gridcolor": "white",
            "gridwidth": 2,
            "linecolor": "white",
            "showbackground": true,
            "ticks": "",
            "zerolinecolor": "white"
           }
          },
          "shapedefaults": {
           "line": {
            "color": "#2a3f5f"
           }
          },
          "ternary": {
           "aaxis": {
            "gridcolor": "white",
            "linecolor": "white",
            "ticks": ""
           },
           "baxis": {
            "gridcolor": "white",
            "linecolor": "white",
            "ticks": ""
           },
           "bgcolor": "#E5ECF6",
           "caxis": {
            "gridcolor": "white",
            "linecolor": "white",
            "ticks": ""
           }
          },
          "title": {
           "x": 0.05
          },
          "xaxis": {
           "automargin": true,
           "gridcolor": "white",
           "linecolor": "white",
           "ticks": "",
           "title": {
            "standoff": 15
           },
           "zerolinecolor": "white",
           "zerolinewidth": 2
          },
          "yaxis": {
           "automargin": true,
           "gridcolor": "white",
           "linecolor": "white",
           "ticks": "",
           "title": {
            "standoff": 15
           },
           "zerolinecolor": "white",
           "zerolinewidth": 2
          }
         }
        },
        "title": {
         "text": "f(x) vs Fortuna solution"
        },
        "xaxis": {
         "anchor": "y",
         "domain": [
          0,
          1
         ],
         "range": [
          1,
          7.4
         ],
         "title": {
          "text": "x"
         }
        },
        "yaxis": {
         "anchor": "x",
         "domain": [
          0,
          1
         ],
         "range": [
          -6,
          6
         ],
         "title": {
          "text": "y"
         }
        }
       }
      },
      "image/png": "[encoded data removed]"
     },
     "metadata": {},
     "output_type": "display_data"
    },
    {
     "name": "stdout",
     "output_type": "stream",
     "text": [
      "CPU times: total: 2.44 s\n",
      "Wall time: 2.38 s\n"
     ]
    }
   ],
   "source": [
    "%%time\n",
    "# the magic %%time has to be the first line in the cell, and reports the total exec time of the cell.\n",
    "\n",
    "import random\n",
    "import numpy as np\n",
    "import plotly.express as px\n",
    "import tqdm\n",
    "\n",
    "\n",
    "def predict_f3(x, theta):\n",
    "    # change to sum of 3 sin() terms. \n",
    "    # use np.sin() and not math.sin().\n",
    "\n",
    "    # Task 4.1\n",
    "    A1, A2, A3, g1, g2, g3, w1, w2, w3 = theta\n",
    "    return (\n",
    "        A1 * np.sin(g1 * (x + w1)) + A2 * np.sin(g2 * (x + w2)) + A3 * np.sin(g3 * (x + w3))\n",
    "    )\n",
    "\n",
    "def predict_h(x, theta):\n",
    "    # Task 4.3\n",
    "    my, zeta, kappa, a, b, lamda = theta\n",
    "    tau = a * (x + lamda) + b\n",
    "    return my - (zeta * np.sin(kappa * x)) * tau\n",
    "\n",
    "    \n",
    "def sample_theta(size_of_theta):\n",
    "    # Do NOT CHANGE.\n",
    "    theta = np.random.uniform(-4, 4, size=size_of_theta)\n",
    "    return theta\n",
    "\n",
    "\n",
    "def get_loss(y_hat, ys):\n",
    "    # No change needed, returns quadratic loss.\n",
    "    loss = ((y_hat - ys)**2).sum()\n",
    "    return loss\n",
    "\n",
    "\n",
    "def fortuna_original(xs, ys, n_params, predict_fn, iters=100000):\n",
    "# change to the size of theta ( 9 ) (for h(x) how many parameters does it have?)\n",
    "\n",
    "    best_theta = sample_theta(n_params)\n",
    "    best_loss = get_loss(predict_fn(xs, best_theta), ys)\n",
    "    \n",
    "    for _ in tqdm.tqdm(range(iters)):\n",
    "        curr_theta = sample_theta(n_params)\n",
    "        y_hat = predict_fn(xs, curr_theta)\n",
    "        curr_loss = get_loss(y_hat, ys)\n",
    "\n",
    "        if best_loss > curr_loss:\n",
    "            best_loss = curr_loss\n",
    "            best_theta = curr_theta\n",
    "\n",
    "    return best_theta, best_loss\n",
    "\n",
    "\n",
    "def fortuna_improved(xs, ys, n_params, predict_fn, total=100000, batch=10):\n",
    "\n",
    "    iters = total // batch\n",
    "\n",
    "    best_theta = sample_theta(n_params)\n",
    "    best_loss = get_loss(predict_fn(xs, best_theta), ys)\n",
    "    \n",
    "\n",
    "    for _ in tqdm.tqdm(range(iters)): \n",
    "\n",
    "        candidates = np.random.uniform( -4, 4, size= (batch, n_params))\n",
    "\n",
    "        for curr_theta in candidates:\n",
    "            y_hat = predict_fn(xs, curr_theta)\n",
    "            curr_loss = get_loss(y_hat, ys)\n",
    "        \n",
    "            if curr_loss < best_loss:\n",
    "                best_loss = curr_loss\n",
    "                best_theta = curr_theta\n",
    "\n",
    "    return best_theta, best_loss\n",
    "\n",
    "\n",
    "# Data\n",
    "xs = np.array([1.0, 1.1, 1.2, 1.3, 1.4, 1.5, 1.6, 1.7, 1.8, 1.9, 2.0, 2.1, 2.2, 2.3, 2.4, 2.5, 2.6, 2.7, 2.8, 2.9, 3.0, 3.1, 3.2, 3.3, 3.4, 3.5, 3.6, 3.7, 3.8, 3.9, 4.0, 4.1, 4.2, 4.3, 4.4, 4.5, 4.6, 4.7, 4.8, 4.9, 5.0, 5.1, 5.2, 5.3, 5.4, 5.5, 5.6, 5.7, 5.8, 5.9, 6.0, 6.1, 6.2, 6.3, 6.4, 6.5, 6.6, 6.7, 6.8, 6.9, 7.0, 7.1, 7.2, 7.3, 7.4])\n",
    "ys = np.array([4.03, 4.19, 4.26, 4.25, 4.17, 4.03, 3.85, 3.63, 3.40, 3.16, 2.93, 2.72, 2.53, 2.39, 2.28, 2.21, 2.18, 2.19, 2.22, 2.27, 2.33, 2.39, 2.44, 2.45, 2.43, 2.36, 2.22, 2.02, 1.75, 1.41, 1.00, 0.52, -0.01, -0.60, -1.22, -1.86, -2.50, -3.13, -3.72, -4.27, -4.75, -5.15, -5.45, -5.65, -5.74, -5.70, -5.55, -5.29, -4.92, -4.44, -3.89, -3.26, -2.58, -1.86, -1.12, -0.39, 0.32, 0.98, 1.60, 2.14, 2.61, 2.99, 3.28, 3.47, 3.57])\n",
    "\n",
    "# \n",
    "ys_h_1 = np.array([15.98, 21.42, 24.1, 23.87, 21.0, 16.11, 10.06, 3.79, -1.8, -6.01, -8.39, -8.82, -7.47, -4.77, -1.3, 2.31, 5.49, 7.81, 9.04, 9.18, 8.44, 7.15, 5.72, 4.54, 3.89, 3.9, 4.52, 5.54, 6.63, 7.39, 7.49, 6.7, 4.97, 2.44, -0.54, -3.48, -5.8, -6.98, -6.61, -4.51, -0.79, 4.2, 9.8, 15.21, 19.57, 22.09, 22.2, 19.63, 14.52, 7.41, -0.83, -9.07, -16.11, -20.83, -22.36, -20.27, -14.59, -5.91, 4.72, 15.9, 26.06, 33.69, 37.58, 36.94, 31.64])\n",
    "ys_h_2 = np.array([[5.87, 5.83, 5.74, 5.62, 5.48, 16.58, 18.21, 18.49, 17.54, 15.54, 4.15, 3.9, 3.65, 3.42, 3.2, -1.9, -3.32, -3.97, -3.91, -3.27, 2.38, 2.36, 2.39, 2.46, 2.57, 2.2, 1.93, 1.22, 0.17, -1.06, 4.18, 4.59, 5.04, 5.52, 6.02, -1.49, 0.74, 3.55, 6.75, 10.06, 9.39, 9.95, 10.5, 11.02, 11.52, 16.0, 12.82, 8.47, 3.21, -2.62, 13.61, 13.76, 13.84, 13.84, 13.77, -24.16, -22.03, -17.9, -11.95, -4.55, 11.63, 10.99, 10.27, 9.47, 8.61]])\n",
    "\n",
    "def main():\n",
    "    \n",
    "    # Option A: 3 Sine model\n",
    "    predict_fn = predict_f3\n",
    "    n_params = 9\n",
    "    target = ys\n",
    "        \n",
    "    \"\"\"\n",
    "    # Option B: h(x) vs ys_h_1\n",
    "    predict_fn = predict_h\n",
    "    n_params = 6\n",
    "    target = ys_h_1\n",
    "    \"\"\"\n",
    "    \n",
    "    \"\"\"\n",
    "    # Option C: h(x) vs ys_h_2\n",
    "    predict_fn = predict_h\n",
    "    n_params = 6\n",
    "    target = ys_h_2.flatten()\n",
    "    \"\"\"\n",
    "    \n",
    "    # Choose Fortuna algorithme\n",
    "\n",
    "    best_theta, best_loss = fortuna_original(xs, target, n_params, predict_fn)\n",
    "\n",
    "    #best_theta, best_loss = fortuna_improved(xs, target, n_params, predict_fn)\n",
    "    \n",
    "    print(\"best loss:\", best_loss)\n",
    "    print(\"theta:\", best_theta)    \n",
    "    \n",
    "    \n",
    "    fig = px.line(x=xs, y=target, title=\"f(x) vs Fortuna solution\")\n",
    "    fig.add_scatter(x=xs, y=predict_fn(xs, best_theta), mode='lines', name=\"y_hat\")\n",
    "    fig.update_layout(xaxis_range=[xs.min(),xs.max()], yaxis_range=[-6,6])\n",
    "    fig.show()\n",
    "\n",
    "main()\n",
    "    \n",
    "# to get a solid estimate -> you should train at least 100 models and take the average performance."
   ]
  },
  {
   "cell_type": "markdown",
   "metadata": {},
   "source": [
    "Changed the program a bit, as mainly an C/C++ developer i find code when it runs in main so much easier to read. Working with a main fucntion is familiar. The orignal fortuna algorithm is still the same, but there were a few modifications for it to better fit in a function. \n",
    "\n",
    "The improved Fortuna algorithm works by evaluating a batch of 10 candidates at once instead of trying one by one. This increases the probability of finding a better soloution earlier since the best of many is most likely better than the best of one. "
   ]
  },
  {
   "cell_type": "markdown",
   "metadata": {},
   "source": [
    "# Task 5 -- Fortuna For Decision Trees\n",
    "\n",
    "Implement a Decision Tree for solving the XOR problem.   \n",
    "Here: there are 2 real valued inputs, x0, x1  (found in xs).  \n",
    "\n",
    "And the DT should take these two as input and predict an output: 0 or 1.   \n",
    "The true answer can be found in ys_true.\n"
   ]
  },
  {
   "cell_type": "code",
   "execution_count": 36,
   "metadata": {},
   "outputs": [
    {
     "name": "stdout",
     "output_type": "stream",
     "text": [
      "Best accuracy: 100.0%\n",
      "Tresholds: 0.5418654995145764 0.5630137015413839 0.5139932849149482\n"
     ]
    }
   ],
   "source": [
    "import numpy as np\n",
    "rng = np.random.default_rng(42)\n",
    "n_examples = 40\n",
    "\n",
    "xs = rng.uniform(size=(n_examples, 2))\n",
    "\n",
    "# make a true y\n",
    "b = (xs>0.5).astype(int)\n",
    "ys_true = np.logical_xor(b[:, 0], b[:, 1]).astype(int)\n",
    "\n",
    "\n",
    "\n",
    "##################################\n",
    "# here you implement a Decision Tree that is built using the fortuna algorithm.\n",
    "# The depth of the tree should be less than 4\n",
    "# The DT should reach 100% accuracy.\n",
    "\n",
    "def score_tree(xs, ys, t0, t1, t2):\n",
    "\n",
    "    x0, x1 = xs[:, 0], xs[:, 1]\n",
    "    preds = np.zeros_like(ys)\n",
    "\n",
    "    regions = [\n",
    "        (x0 > t0) & (x1 > t2), \n",
    "        (x0 > t0) & (x1 <= t2),\n",
    "        (x0 <= t0) & (x1 > t1),\n",
    "        (x0 <= t0) & (x1 <= t1),\n",
    "    ]\n",
    "\n",
    "    for mask in regions:\n",
    "        if mask.any():\n",
    "            preds[mask] = np.round(ys[mask].mean())\n",
    "\n",
    "    acc = (preds == ys).mean()\n",
    "    return acc, preds\n",
    "\n",
    "\n",
    "def fortuna_dt(xs, ys, iters=10000):\n",
    "    best_acc = 0.0\n",
    "    best = None\n",
    "\n",
    "    for _ in range(iters):\n",
    "        t0, t1, t2 = np.random.rand(3)\n",
    "        acc, preds = score_tree(xs, ys, t0, t1, t2)\n",
    "        \n",
    "        if acc > best_acc:\n",
    "            best_acc = acc\n",
    "            best = (t0, t1, t2, preds)\n",
    "            if acc == 1.0:\n",
    "                break\n",
    "    return best, best_acc\n",
    "\n",
    "(best_t0, best_t1, best_t2, preds), acc = fortuna_dt(xs, ys_true)\n",
    "\n",
    "print(f\"Best accuracy: {acc * 100:.1f}%\")\n",
    "print(\"Tresholds:\", best_t0, best_t1, best_t2)\n",
    "\n",
    "\n",
    "\n"
   ]
  },
  {
   "cell_type": "markdown",
   "metadata": {},
   "source": [
    "# Task 6 -- Best Route App\n",
    "\n",
    "A company called Knut Knut Transport AS is using one of the 4 routes for delivery (see Pitch\\_knutknut\\_transport.pdf for more info).\n",
    "* A -> C -> D  \n",
    "* A -> C -> E  \n",
    "* B -> C -> D  \n",
    "* B -> C -> E  \n",
    "\n",
    "They have discovered that they can transport the goods faster by picking the right route given \n",
    "only the depature time of the transport.\n",
    "\n",
    "In the file \"traffic.jsonl\" on Canvas is the collected data up to the current point in time.\n",
    "So far, they have just selected a route at random, now they want to implement a simple web-api\n",
    "that can help the drivers select the best route. \n",
    "\n",
    "* Using the data found in traffic.jsonl, create a ML model that given an time (hour:min) can select the fastest route to travel. **Be sure to document in a google doc/word/notebook/... how YOU created your ML model.** The ML model should be trained using the Fortuna algorithm.\n",
    "\n",
    "* Download the knut\\_knut\\_app.py found on canvas an implement the function: get\\_the\\_best\\_route\\_as\\_a\\_text\\_informatic(dep\\_hour, dep\\_min) such that the web application works and gives a good estimated time.\n",
    "\n",
    "* The CEO (Knut) want you to estimate how much time they can save from using this new app.\n",
    "* Prepare a VERY short presentation (pdf) on the gains and tech behind the app (random subsample will present for the class)\n",
    "\n",
    "\n",
    "Some hints:\n",
    "* Look closely at the data using both numerical analysis and visual (plotting). \n",
    "* Use the python library datetime to handle time calculations. \n",
    "* Make sure the features are scaled in a way that make sense.\n",
    "* Once you have a model working, use the python library pickle to save/load the model."
   ]
  }
 ],
 "metadata": {
  "kernelspec": {
   "display_name": "Python 3 (ipykernel)",
   "language": "python",
   "name": "python3"
  },
  "language_info": {
   "codemirror_mode": {
    "name": "ipython",
    "version": 3
   },
   "file_extension": ".py",
   "mimetype": "text/x-python",
   "name": "python",
   "nbconvert_exporter": "python",
   "pygments_lexer": "ipython3",
   "version": "3.11.9"
  },
  "vscode": {
   "interpreter": {
    "hash": "916dbcbb3f70747c44a77c7bcd40155683ae19c65e1c03b4aa3499c5328201f1"
   }
  }
 },
 "nbformat": 4,
 "nbformat_minor": 4
}
